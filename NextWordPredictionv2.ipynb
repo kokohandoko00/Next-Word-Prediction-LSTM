{
 "cells": [
  {
   "cell_type": "code",
   "execution_count": null,
   "metadata": {
    "colab": {
     "base_uri": "https://localhost:8080/"
    },
    "id": "cteUN7Kmryqz",
    "outputId": "0af7dbc7-67ba-45e3-8783-44a86e85fa5b"
   },
   "outputs": [
    {
     "name": "stdout",
     "output_type": "stream",
     "text": [
      "Go to this URL in a browser: https://accounts.google.com/o/oauth2/auth?client_id=947318989803-6bn6qk8qdgf4n4g3pfee6491hc0brc4i.apps.googleusercontent.com&redirect_uri=urn%3aietf%3awg%3aoauth%3a2.0%3aoob&scope=email%20https%3a%2f%2fwww.googleapis.com%2fauth%2fdocs.test%20https%3a%2f%2fwww.googleapis.com%2fauth%2fdrive%20https%3a%2f%2fwww.googleapis.com%2fauth%2fdrive.photos.readonly%20https%3a%2f%2fwww.googleapis.com%2fauth%2fpeopleapi.readonly%20https%3a%2f%2fwww.googleapis.com%2fauth%2fdrive.activity.readonly%20https%3a%2f%2fwww.googleapis.com%2fauth%2fexperimentsandconfigs%20https%3a%2f%2fwww.googleapis.com%2fauth%2fphotos.native&response_type=code\n",
      "\n",
      "Enter your authorization code:\n",
      "4/1AX4XfWiVUkh_BK4h5b1F-SJwHW7Qki-_viFJESyE5Way4gMKRnvPSEWb4y4\n"
     ]
    }
   ],
   "source": [
    "from google.colab import drive\n",
    "drive.mount('/content/drive')   "
   ]
  },
  {
   "cell_type": "code",
   "execution_count": null,
   "metadata": {
    "colab": {
     "background_save": true,
     "base_uri": "https://localhost:8080/"
    },
    "id": "XD2zK911r7_K",
    "outputId": "5f544f3d-dd55-418d-9051-8ddae8906fb8"
   },
   "outputs": [
    {
     "name": "stdout",
     "output_type": "stream",
     "text": [
      "/content/drive/Shareddrives/NLP\n"
     ]
    }
   ],
   "source": [
    "%cd /content/drive/Shareddrives/NLP"
   ]
  },
  {
   "cell_type": "markdown",
   "metadata": {
    "id": "_XOiYhCEHjdH"
   },
   "source": [
    "# Skip sampe ada tulisan mulai dari sini"
   ]
  },
  {
   "cell_type": "code",
   "execution_count": null,
   "metadata": {
    "id": "k0EVDE5_s63n"
   },
   "outputs": [],
   "source": [
    "pip install textdistance --quiet"
   ]
  },
  {
   "cell_type": "code",
   "execution_count": null,
   "metadata": {
    "id": "sGyT7lIRsx-Z"
   },
   "outputs": [],
   "source": [
    "import pandas as pd\n",
    "import numpy as np\n",
    "import textdistance\n",
    "import re\n",
    "from collections import Counter"
   ]
  },
  {
   "cell_type": "code",
   "execution_count": null,
   "metadata": {
    "colab": {
     "base_uri": "https://localhost:8080/"
    },
    "id": "sr8RiJWDs31G",
    "outputId": "0534859d-7a53-4526-f1cb-32bc913d4c4d"
   },
   "outputs": [
    {
     "name": "stdout",
     "output_type": "stream",
     "text": [
      "20 Kata Pertama dalam Buku Moby Dick: \n",
      "['the', 'project', 'gutenberg', 'ebook', 'of', 'moby', 'dick', 'or', 'the', 'whale', 'by', 'herman', 'melville', 'this', 'ebook', 'is', 'for', 'the', 'use', 'of']\n",
      "\n",
      "Terdapat 17647 kata yang unik di dalam Vocabulary.\n"
     ]
    }
   ],
   "source": [
    "words = []\n",
    "with open('book.txt', 'r') as f:\n",
    "    file_name_data = f.read()\n",
    "    file_name_data=file_name_data.lower()\n",
    "    words = re.findall('\\w+',file_name_data)\n",
    "# This is our vocabulary\n",
    "V = set(words)\n",
    "print(f\"20 Kata Pertama dalam Buku Moby Dick: \\n{words[:20]}\")\n",
    "print(f\"\\nTerdapat {len(V)} kata yang unik di dalam Vocabulary.\") "
   ]
  },
  {
   "cell_type": "code",
   "execution_count": null,
   "metadata": {
    "colab": {
     "base_uri": "https://localhost:8080/"
    },
    "id": "DCqPWlATtGfs",
    "outputId": "c2bfac91-4810-416b-81f6-9dce0268dbd2"
   },
   "outputs": [
    {
     "name": "stdout",
     "output_type": "stream",
     "text": [
      "[('the', 14703), ('of', 6742), ('and', 6517), ('a', 4799), ('to', 4707), ('in', 4238), ('that', 3081), ('it', 2534), ('his', 2530), ('i', 2120)]\n"
     ]
    }
   ],
   "source": [
    "word_freq_dict = {}  \n",
    "word_freq_dict = Counter(words)\n",
    "print(word_freq_dict.most_common()[0:10])"
   ]
  },
  {
   "cell_type": "code",
   "execution_count": null,
   "metadata": {
    "colab": {
     "base_uri": "https://localhost:8080/"
    },
    "id": "XntusYP2yqZQ",
    "outputId": "63f5d1c8-20e6-4ac1-e94e-0d60f3c15321"
   },
   "outputs": [
    {
     "data": {
      "text/plain": [
       "Counter({'the': 14703,\n",
       "         'project': 91,\n",
       "         'gutenberg': 94,\n",
       "         'ebook': 10,\n",
       "         'of': 6742,\n",
       "         'moby': 90,\n",
       "         'dick': 90,\n",
       "         'or': 797,\n",
       "         'whale': 1230,\n",
       "         'by': 1222,\n",
       "         'herman': 4,\n",
       "         'melville': 4,\n",
       "         'this': 1439,\n",
       "         'is': 1751,\n",
       "         'for': 1644,\n",
       "         'use': 49,\n",
       "         'anyone': 6,\n",
       "         'anywhere': 16,\n",
       "         'at': 1335,\n",
       "         'no': 594,\n",
       "         'cost': 4,\n",
       "         'and': 6517,\n",
       "         'with': 1769,\n",
       "         'almost': 197,\n",
       "         'restrictions': 2,\n",
       "         'whatsoever': 7,\n",
       "         'you': 958,\n",
       "         'may': 255,\n",
       "         'copy': 19,\n",
       "         'it': 2534,\n",
       "         'give': 90,\n",
       "         'away': 186,\n",
       "         're': 18,\n",
       "         'under': 126,\n",
       "         'terms': 33,\n",
       "         'license': 18,\n",
       "         'included': 14,\n",
       "         'online': 4,\n",
       "         'www': 6,\n",
       "         'org': 13,\n",
       "         'title': 8,\n",
       "         'author': 9,\n",
       "         'release': 1,\n",
       "         'date': 4,\n",
       "         'december': 5,\n",
       "         '25': 4,\n",
       "         '2008': 1,\n",
       "         '2701': 4,\n",
       "         'last': 278,\n",
       "         'updated': 2,\n",
       "         '3': 16,\n",
       "         '2017': 1,\n",
       "         'language': 7,\n",
       "         'english': 49,\n",
       "         'character': 15,\n",
       "         'set': 85,\n",
       "         'encoding': 1,\n",
       "         'utf': 1,\n",
       "         '8': 7,\n",
       "         'start': 37,\n",
       "         'produced': 9,\n",
       "         'daniel': 4,\n",
       "         'lazarus': 7,\n",
       "         'jonesey': 2,\n",
       "         'david': 2,\n",
       "         'widger': 2,\n",
       "         'contents': 8,\n",
       "         'etymology': 2,\n",
       "         'extracts': 7,\n",
       "         'supplied': 13,\n",
       "         'a': 4799,\n",
       "         'sub': 9,\n",
       "         'librarian': 2,\n",
       "         'chapter': 308,\n",
       "         '1': 49,\n",
       "         'loomings': 2,\n",
       "         '2': 7,\n",
       "         'carpet': 9,\n",
       "         'bag': 23,\n",
       "         'spouter': 8,\n",
       "         'inn': 17,\n",
       "         '4': 9,\n",
       "         'counterpane': 8,\n",
       "         '5': 7,\n",
       "         'breakfast': 15,\n",
       "         '6': 4,\n",
       "         'street': 14,\n",
       "         '7': 7,\n",
       "         'chapel': 11,\n",
       "         'pulpit': 17,\n",
       "         '9': 5,\n",
       "         'sermon': 5,\n",
       "         '10': 5,\n",
       "         'bosom': 9,\n",
       "         'friend': 27,\n",
       "         '11': 2,\n",
       "         'nightgown': 2,\n",
       "         '12': 2,\n",
       "         'biographical': 2,\n",
       "         '13': 4,\n",
       "         'wheelbarrow': 4,\n",
       "         '14': 2,\n",
       "         'nantucket': 94,\n",
       "         '15': 2,\n",
       "         'chowder': 10,\n",
       "         '16': 2,\n",
       "         'ship': 519,\n",
       "         '17': 2,\n",
       "         'ramadan': 12,\n",
       "         '18': 2,\n",
       "         'his': 2530,\n",
       "         'mark': 56,\n",
       "         '19': 2,\n",
       "         'prophet': 17,\n",
       "         '20': 5,\n",
       "         'all': 1544,\n",
       "         'astir': 4,\n",
       "         '21': 2,\n",
       "         'going': 90,\n",
       "         'aboard': 22,\n",
       "         '22': 2,\n",
       "         'merry': 14,\n",
       "         'christmas': 6,\n",
       "         '23': 2,\n",
       "         'lee': 21,\n",
       "         'shore': 26,\n",
       "         '24': 2,\n",
       "         'advocate': 4,\n",
       "         'postscript': 2,\n",
       "         '26': 2,\n",
       "         'knights': 6,\n",
       "         'squires': 4,\n",
       "         '27': 2,\n",
       "         '28': 2,\n",
       "         'ahab': 512,\n",
       "         '29': 2,\n",
       "         'enter': 11,\n",
       "         'to': 4707,\n",
       "         'him': 1065,\n",
       "         'stubb': 259,\n",
       "         '30': 4,\n",
       "         'pipe': 42,\n",
       "         '31': 2,\n",
       "         'queen': 18,\n",
       "         'mab': 2,\n",
       "         '32': 2,\n",
       "         'cetology': 11,\n",
       "         '33': 2,\n",
       "         'specksnyder': 4,\n",
       "         '34': 2,\n",
       "         'cabin': 87,\n",
       "         'table': 38,\n",
       "         '35': 2,\n",
       "         'mast': 130,\n",
       "         'head': 348,\n",
       "         '36': 2,\n",
       "         'quarter': 48,\n",
       "         'deck': 199,\n",
       "         '37': 2,\n",
       "         'sunset': 10,\n",
       "         '38': 2,\n",
       "         'dusk': 3,\n",
       "         '39': 2,\n",
       "         'first': 239,\n",
       "         'night': 152,\n",
       "         'watch': 61,\n",
       "         '40': 3,\n",
       "         'midnight': 30,\n",
       "         'forecastle': 38,\n",
       "         '41': 2,\n",
       "         '42': 2,\n",
       "         'whiteness': 28,\n",
       "         '43': 2,\n",
       "         'hark': 17,\n",
       "         '44': 2,\n",
       "         'chart': 8,\n",
       "         '45': 3,\n",
       "         'affidavit': 3,\n",
       "         '46': 2,\n",
       "         'surmises': 4,\n",
       "         '47': 2,\n",
       "         'mat': 13,\n",
       "         'maker': 5,\n",
       "         '48': 2,\n",
       "         'lowering': 19,\n",
       "         '49': 2,\n",
       "         'hyena': 4,\n",
       "         '50': 3,\n",
       "         's': 1819,\n",
       "         'boat': 334,\n",
       "         'crew': 141,\n",
       "         'fedallah': 28,\n",
       "         '51': 2,\n",
       "         'spirit': 19,\n",
       "         'spout': 61,\n",
       "         '52': 2,\n",
       "         'albatross': 10,\n",
       "         '53': 2,\n",
       "         'gam': 6,\n",
       "         '54': 2,\n",
       "         'town': 36,\n",
       "         'ho': 32,\n",
       "         'story': 51,\n",
       "         '55': 2,\n",
       "         'monstrous': 12,\n",
       "         'pictures': 19,\n",
       "         'whales': 271,\n",
       "         '56': 2,\n",
       "         'less': 54,\n",
       "         'erroneous': 2,\n",
       "         'true': 88,\n",
       "         'whaling': 132,\n",
       "         'scenes': 12,\n",
       "         '57': 2,\n",
       "         'in': 4238,\n",
       "         'paint': 7,\n",
       "         'teeth': 50,\n",
       "         'wood': 37,\n",
       "         'sheet': 9,\n",
       "         'iron': 88,\n",
       "         'stone': 20,\n",
       "         'mountains': 14,\n",
       "         'stars': 14,\n",
       "         '58': 2,\n",
       "         'brit': 9,\n",
       "         '59': 2,\n",
       "         'squid': 8,\n",
       "         '60': 4,\n",
       "         'line': 160,\n",
       "         '61': 2,\n",
       "         'kills': 3,\n",
       "         '62': 2,\n",
       "         'dart': 26,\n",
       "         '63': 2,\n",
       "         'crotch': 11,\n",
       "         '64': 3,\n",
       "         'supper': 31,\n",
       "         '65': 2,\n",
       "         'as': 1752,\n",
       "         'dish': 11,\n",
       "         '66': 2,\n",
       "         'shark': 31,\n",
       "         'massacre': 3,\n",
       "         '67': 2,\n",
       "         'cutting': 38,\n",
       "         '68': 2,\n",
       "         'blanket': 14,\n",
       "         '69': 2,\n",
       "         'funeral': 6,\n",
       "         '70': 2,\n",
       "         'sphynx': 3,\n",
       "         '71': 2,\n",
       "         'jeroboam': 11,\n",
       "         '72': 3,\n",
       "         'monkey': 17,\n",
       "         'rope': 60,\n",
       "         '73': 2,\n",
       "         'flask': 109,\n",
       "         'kill': 34,\n",
       "         'right': 155,\n",
       "         'then': 630,\n",
       "         'have': 774,\n",
       "         'talk': 26,\n",
       "         'over': 410,\n",
       "         '74': 2,\n",
       "         'sperm': 242,\n",
       "         'contrasted': 4,\n",
       "         'view': 50,\n",
       "         '75': 2,\n",
       "         '76': 2,\n",
       "         'battering': 7,\n",
       "         'ram': 8,\n",
       "         '77': 2,\n",
       "         'great': 307,\n",
       "         'heidelburgh': 9,\n",
       "         'tun': 15,\n",
       "         '78': 2,\n",
       "         'cistern': 5,\n",
       "         'buckets': 6,\n",
       "         '79': 2,\n",
       "         'prairie': 13,\n",
       "         '80': 2,\n",
       "         'nut': 5,\n",
       "         '81': 2,\n",
       "         'pequod': 177,\n",
       "         'meets': 14,\n",
       "         'virgin': 12,\n",
       "         '82': 2,\n",
       "         'honor': 25,\n",
       "         'glory': 19,\n",
       "         '83': 2,\n",
       "         'jonah': 85,\n",
       "         'historically': 2,\n",
       "         'regarded': 25,\n",
       "         '84': 2,\n",
       "         'pitchpoling': 7,\n",
       "         '85': 2,\n",
       "         'fountain': 10,\n",
       "         '86': 2,\n",
       "         'tail': 81,\n",
       "         '87': 2,\n",
       "         'grand': 54,\n",
       "         'armada': 2,\n",
       "         '88': 2,\n",
       "         'schools': 9,\n",
       "         'schoolmasters': 3,\n",
       "         '89': 2,\n",
       "         'fast': 64,\n",
       "         'fish': 169,\n",
       "         'loose': 37,\n",
       "         '90': 4,\n",
       "         'heads': 87,\n",
       "         'tails': 8,\n",
       "         '91': 2,\n",
       "         'rose': 35,\n",
       "         'bud': 6,\n",
       "         '92': 2,\n",
       "         'ambergris': 14,\n",
       "         '93': 2,\n",
       "         'castaway': 5,\n",
       "         '94': 2,\n",
       "         'squeeze': 10,\n",
       "         'hand': 215,\n",
       "         '95': 2,\n",
       "         'cassock': 3,\n",
       "         '96': 2,\n",
       "         'try': 55,\n",
       "         'works': 64,\n",
       "         '97': 2,\n",
       "         'lamp': 30,\n",
       "         '98': 2,\n",
       "         'stowing': 3,\n",
       "         'down': 379,\n",
       "         'clearing': 6,\n",
       "         'up': 526,\n",
       "         '99': 2,\n",
       "         'doubloon': 21,\n",
       "         '100': 4,\n",
       "         'leg': 91,\n",
       "         'arm': 90,\n",
       "         '101': 2,\n",
       "         'decanter': 3,\n",
       "         '102': 2,\n",
       "         'bower': 4,\n",
       "         'arsacides': 4,\n",
       "         '103': 2,\n",
       "         'measurement': 4,\n",
       "         'skeleton': 35,\n",
       "         '104': 2,\n",
       "         'fossil': 5,\n",
       "         '105': 2,\n",
       "         'does': 98,\n",
       "         'magnitude': 23,\n",
       "         'diminish': 5,\n",
       "         'will': 399,\n",
       "         'he': 1896,\n",
       "         'perish': 5,\n",
       "         '106': 2,\n",
       "         '107': 2,\n",
       "         'carpenter': 50,\n",
       "         '108': 2,\n",
       "         '109': 2,\n",
       "         'starbuck': 199,\n",
       "         '110': 2,\n",
       "         'queequeg': 253,\n",
       "         'coffin': 53,\n",
       "         '111': 2,\n",
       "         'pacific': 35,\n",
       "         '112': 2,\n",
       "         'blacksmith': 22,\n",
       "         '113': 2,\n",
       "         'forge': 13,\n",
       "         '114': 2,\n",
       "         'gilder': 2,\n",
       "         '115': 2,\n",
       "         'bachelor': 9,\n",
       "         '116': 2,\n",
       "         'dying': 15,\n",
       "         '117': 2,\n",
       "         '118': 2,\n",
       "         'quadrant': 9,\n",
       "         '119': 2,\n",
       "         'candles': 10,\n",
       "         '120': 2,\n",
       "         'towards': 115,\n",
       "         'end': 103,\n",
       "         '121': 2,\n",
       "         'bulwarks': 38,\n",
       "         '122': 2,\n",
       "         'aloft': 63,\n",
       "         'thunder': 32,\n",
       "         'lightning': 28,\n",
       "         '123': 2,\n",
       "         'musket': 9,\n",
       "         '124': 2,\n",
       "         'needle': 12,\n",
       "         '125': 2,\n",
       "         'log': 23,\n",
       "         '126': 2,\n",
       "         'life': 175,\n",
       "         'buoy': 14,\n",
       "         '127': 2,\n",
       "         '128': 2,\n",
       "         'rachel': 7,\n",
       "         '129': 2,\n",
       "         '130': 2,\n",
       "         'hat': 41,\n",
       "         '131': 2,\n",
       "         'delight': 19,\n",
       "         '132': 2,\n",
       "         'symphony': 2,\n",
       "         '133': 2,\n",
       "         'chase': 62,\n",
       "         'day': 179,\n",
       "         '134': 2,\n",
       "         'second': 62,\n",
       "         '135': 2,\n",
       "         'third': 34,\n",
       "         'epilogue': 2,\n",
       "         'original': 23,\n",
       "         'transcriber': 1,\n",
       "         'notes': 4,\n",
       "         'text': 6,\n",
       "         'combination': 2,\n",
       "         'etexts': 1,\n",
       "         'one': 924,\n",
       "         'from': 1104,\n",
       "         'now': 786,\n",
       "         'defunct': 2,\n",
       "         'eris': 1,\n",
       "         'virginia': 6,\n",
       "         'tech': 2,\n",
       "         'archives': 1,\n",
       "         'proofreaders': 1,\n",
       "         'version': 6,\n",
       "         'are': 618,\n",
       "         'indebted': 2,\n",
       "         'university': 1,\n",
       "         'adelaide': 1,\n",
       "         'library': 3,\n",
       "         'preserving': 4,\n",
       "         'resulting': 3,\n",
       "         'etext': 1,\n",
       "         'was': 1646,\n",
       "         'compared': 9,\n",
       "         'public': 15,\n",
       "         'domain': 9,\n",
       "         'hard': 84,\n",
       "         'late': 30,\n",
       "         'consumptive': 1,\n",
       "         'usher': 2,\n",
       "         'grammar': 2,\n",
       "         'school': 10,\n",
       "         'pale': 19,\n",
       "         'threadbare': 1,\n",
       "         'coat': 28,\n",
       "         'heart': 91,\n",
       "         'body': 110,\n",
       "         'brain': 37,\n",
       "         'i': 2120,\n",
       "         'see': 275,\n",
       "         'ever': 206,\n",
       "         'dusting': 2,\n",
       "         'old': 452,\n",
       "         'lexicons': 1,\n",
       "         'grammars': 2,\n",
       "         'queer': 44,\n",
       "         'handkerchief': 5,\n",
       "         'mockingly': 1,\n",
       "         'embellished': 3,\n",
       "         'gay': 21,\n",
       "         'flags': 1,\n",
       "         'known': 80,\n",
       "         'nations': 12,\n",
       "         'world': 176,\n",
       "         'loved': 3,\n",
       "         'dust': 10,\n",
       "         'somehow': 44,\n",
       "         'mildly': 10,\n",
       "         'reminded': 4,\n",
       "         'mortality': 1,\n",
       "         'while': 246,\n",
       "         'take': 137,\n",
       "         'others': 40,\n",
       "         'teach': 5,\n",
       "         'them': 474,\n",
       "         'what': 617,\n",
       "         'name': 70,\n",
       "         'be': 1063,\n",
       "         'called': 116,\n",
       "         'our': 211,\n",
       "         'tongue': 11,\n",
       "         'leaving': 38,\n",
       "         'out': 537,\n",
       "         'through': 235,\n",
       "         'ignorance': 11,\n",
       "         'letter': 16,\n",
       "         'h': 3,\n",
       "         'which': 655,\n",
       "         'alone': 42,\n",
       "         'maketh': 5,\n",
       "         'signification': 1,\n",
       "         'word': 77,\n",
       "         'deliver': 3,\n",
       "         'that': 3081,\n",
       "         'not': 1173,\n",
       "         '_hackluyt': 1,\n",
       "         '_': 49,\n",
       "         'sw': 1,\n",
       "         'dan': 7,\n",
       "         '_hval_': 1,\n",
       "         'animal': 16,\n",
       "         'named': 12,\n",
       "         'roundness': 1,\n",
       "         'rolling': 35,\n",
       "         '_hvalt_': 1,\n",
       "         'arched': 11,\n",
       "         'vaulted': 2,\n",
       "         '_webster': 1,\n",
       "         'dictionary': 4,\n",
       "         'more': 507,\n",
       "         'immediately': 17,\n",
       "         'dut': 1,\n",
       "         'ger': 1,\n",
       "         '_wallen_': 1,\n",
       "         '_walw': 1,\n",
       "         'ian_': 1,\n",
       "         'roll': 18,\n",
       "         'wallow': 3,\n",
       "         '_richardson': 1,\n",
       "         'חו': 1,\n",
       "         '_hebrew_': 1,\n",
       "         'ϰητος': 1,\n",
       "         '_greek_': 1,\n",
       "         'cetus': 3,\n",
       "         '_latin_': 1,\n",
       "         'whœl': 1,\n",
       "         '_anglo': 1,\n",
       "         'saxon_': 1,\n",
       "         'hvalt': 1,\n",
       "         '_danish_': 1,\n",
       "         'wal': 1,\n",
       "         '_dutch_': 1,\n",
       "         'hwal': 1,\n",
       "         '_swedish_': 1,\n",
       "         '_icelandic_': 1,\n",
       "         '_english_': 1,\n",
       "         'ballena': 1,\n",
       "         '_spanish_': 1,\n",
       "         'pekee': 1,\n",
       "         'nuee': 4,\n",
       "         '_fegee_': 1,\n",
       "         'pehee': 1,\n",
       "         '_erromangoan_': 1,\n",
       "         'seen': 165,\n",
       "         'mere': 42,\n",
       "         'painstaking': 1,\n",
       "         'burrower': 1,\n",
       "         'grub': 2,\n",
       "         'worm': 5,\n",
       "         'poor': 114,\n",
       "         'devil': 55,\n",
       "         'appears': 8,\n",
       "         'gone': 59,\n",
       "         'long': 332,\n",
       "         'vaticans': 1,\n",
       "         'stalls': 1,\n",
       "         'earth': 46,\n",
       "         'picking': 4,\n",
       "         'whatever': 46,\n",
       "         'random': 5,\n",
       "         'allusions': 7,\n",
       "         'could': 217,\n",
       "         'anyways': 2,\n",
       "         'find': 56,\n",
       "         'any': 364,\n",
       "         'book': 60,\n",
       "         'sacred': 10,\n",
       "         'profane': 5,\n",
       "         'therefore': 67,\n",
       "         'must': 293,\n",
       "         'every': 232,\n",
       "         'case': 72,\n",
       "         'least': 76,\n",
       "         'higgledy': 1,\n",
       "         'piggledy': 1,\n",
       "         'statements': 5,\n",
       "         'however': 96,\n",
       "         'authentic': 3,\n",
       "         'these': 405,\n",
       "         'veritable': 4,\n",
       "         'gospel': 2,\n",
       "         'far': 165,\n",
       "         'touching': 46,\n",
       "         'ancient': 28,\n",
       "         'authors': 4,\n",
       "         'generally': 31,\n",
       "         'well': 230,\n",
       "         'poets': 3,\n",
       "         'here': 320,\n",
       "         'appearing': 4,\n",
       "         'solely': 6,\n",
       "         'valuable': 11,\n",
       "         'entertaining': 2,\n",
       "         'affording': 2,\n",
       "         'glancing': 14,\n",
       "         'bird': 17,\n",
       "         'eye': 88,\n",
       "         'has': 293,\n",
       "         'been': 415,\n",
       "         'promiscuously': 1,\n",
       "         'said': 305,\n",
       "         'thought': 150,\n",
       "         'fancied': 9,\n",
       "         'sung': 2,\n",
       "         'leviathan': 95,\n",
       "         'many': 168,\n",
       "         'generations': 8,\n",
       "         'including': 16,\n",
       "         'own': 205,\n",
       "         'so': 1066,\n",
       "         'fare': 10,\n",
       "         'thee': 131,\n",
       "         'whose': 87,\n",
       "         'commentator': 1,\n",
       "         'am': 90,\n",
       "         'thou': 271,\n",
       "         'belongest': 1,\n",
       "         'hopeless': 8,\n",
       "         'sallow': 1,\n",
       "         'tribe': 9,\n",
       "         'wine': 12,\n",
       "         'warm': 24,\n",
       "         'whom': 45,\n",
       "         'even': 193,\n",
       "         'sherry': 1,\n",
       "         'would': 432,\n",
       "         'too': 185,\n",
       "         'rosy': 2,\n",
       "         'strong': 36,\n",
       "         'but': 1823,\n",
       "         'sometimes': 87,\n",
       "         'loves': 1,\n",
       "         'sit': 15,\n",
       "         'feel': 57,\n",
       "         'devilish': 9,\n",
       "         'grow': 24,\n",
       "         'convivial': 4,\n",
       "         'upon': 568,\n",
       "         'tears': 6,\n",
       "         'say': 244,\n",
       "         'bluntly': 1,\n",
       "         'full': 136,\n",
       "         'eyes': 156,\n",
       "         'empty': 22,\n",
       "         'glasses': 10,\n",
       "         'altogether': 29,\n",
       "         'unpleasant': 3,\n",
       "         'sadness': 2,\n",
       "         'subs': 1,\n",
       "         'how': 258,\n",
       "         'much': 224,\n",
       "         'pains': 15,\n",
       "         'ye': 472,\n",
       "         'please': 16,\n",
       "         'shall': 97,\n",
       "         'go': 193,\n",
       "         'thankless': 1,\n",
       "         'clear': 41,\n",
       "         'hampton': 1,\n",
       "         'court': 2,\n",
       "         'tuileries': 3,\n",
       "         'gulp': 2,\n",
       "         'your': 257,\n",
       "         'hie': 1,\n",
       "         'royal': 28,\n",
       "         'hearts': 29,\n",
       "         'friends': 17,\n",
       "         'who': 366,\n",
       "         'before': 301,\n",
       "         'seven': 16,\n",
       "         'storied': 4,\n",
       "         'heavens': 17,\n",
       "         'making': 46,\n",
       "         'refugees': 1,\n",
       "         'pampered': 1,\n",
       "         'gabriel': 20,\n",
       "         'michael': 3,\n",
       "         'raphael': 1,\n",
       "         'against': 135,\n",
       "         'coming': 54,\n",
       "         'strike': 32,\n",
       "         'splintered': 7,\n",
       "         'together': 64,\n",
       "         'there': 865,\n",
       "         'unsplinterable': 1,\n",
       "         'god': 153,\n",
       "         'created': 9,\n",
       "         '_genesis_': 1,\n",
       "         'path': 10,\n",
       "         'shine': 3,\n",
       "         'after': 270,\n",
       "         'think': 122,\n",
       "         'deep': 70,\n",
       "         'hoary': 2,\n",
       "         '_job_': 1,\n",
       "         'lord': 65,\n",
       "         'had': 779,\n",
       "         'prepared': 12,\n",
       "         'swallow': 11,\n",
       "         '_jonah_': 1,\n",
       "         'ships': 88,\n",
       "         'hast': 29,\n",
       "         'made': 178,\n",
       "         'play': 29,\n",
       "         'therein': 6,\n",
       "         '_psalms_': 1,\n",
       "         'sore': 3,\n",
       "         'sword': 25,\n",
       "         'punish': 1,\n",
       "         'piercing': 4,\n",
       "         'serpent': 4,\n",
       "         'crooked': 8,\n",
       "         'slay': 4,\n",
       "         'dragon': 6,\n",
       "         'sea': 455,\n",
       "         '_isaiah_': 1,\n",
       "         'thing': 188,\n",
       "         'soever': 1,\n",
       "         'besides': 50,\n",
       "         'cometh': 1,\n",
       "         'within': 83,\n",
       "         'chaos': 4,\n",
       "         'monster': 49,\n",
       "         'mouth': 61,\n",
       "         'beast': 4,\n",
       "         'goes': 55,\n",
       "         'incontinently': 1,\n",
       "         'foul': 11,\n",
       "         'perisheth': 1,\n",
       "         'bottomless': 7,\n",
       "         'gulf': 6,\n",
       "         'paunch': 2,\n",
       "         '_holland': 2,\n",
       "         'plutarch': 1,\n",
       "         'morals_': 1,\n",
       "         'indian': 57,\n",
       "         'breedeth': 1,\n",
       "         'most': 285,\n",
       "         'biggest': 2,\n",
       "         'fishes': 5,\n",
       "         'among': 167,\n",
       "         'whirlpooles': 1,\n",
       "         'balaene': 1,\n",
       "         'length': 78,\n",
       "         'four': 74,\n",
       "         'acres': 3,\n",
       "         'arpens': 1,\n",
       "         'land': 80,\n",
       "         'pliny_': 1,\n",
       "         'scarcely': 9,\n",
       "         'we': 469,\n",
       "         'proceeded': 6,\n",
       "         'two': 296,\n",
       "         'days': 86,\n",
       "         'on': 1073,\n",
       "         'when': 607,\n",
       "         'about': 318,\n",
       "         'sunrise': 11,\n",
       "         'other': 430,\n",
       "         'monsters': 9,\n",
       "         'appeared': 10,\n",
       "         'former': 20,\n",
       "         'size': 12,\n",
       "         'came': 130,\n",
       "         'us': 229,\n",
       "         'open': 76,\n",
       "         'mouthed': 5,\n",
       "         'raising': 5,\n",
       "         'waves': 48,\n",
       "         'sides': 28,\n",
       "         'beating': 11,\n",
       "         'into': 523,\n",
       "         'foam': 19,\n",
       "         '_tooke': 1,\n",
       "         'lucian_': 1,\n",
       "         '_the': 12,\n",
       "         'history_': 1,\n",
       "         'visited': 7,\n",
       "         'country': 27,\n",
       "         'also': 93,\n",
       "         'catching': 7,\n",
       "         'horse': 27,\n",
       "         'bones': 49,\n",
       "         'very': 323,\n",
       "         'value': 6,\n",
       "         'their': 620,\n",
       "         'brought': 38,\n",
       "         'some': 619,\n",
       "         'king': 63,\n",
       "         'best': 66,\n",
       "         'were': 683,\n",
       "         'catched': 1,\n",
       "         'forty': 33,\n",
       "         'eight': 27,\n",
       "         'fifty': 33,\n",
       "         'yards': 27,\n",
       "         'six': 31,\n",
       "         'killed': 35,\n",
       "         'sixty': 17,\n",
       "         '_other': 1,\n",
       "         'verbal': 2,\n",
       "         'narrative': 9,\n",
       "         'taken': 51,\n",
       "         'alfred': 2,\n",
       "         'd': 75,\n",
       "         '890': 1,\n",
       "         'whereas': 18,\n",
       "         'things': 134,\n",
       "         'whether': 91,\n",
       "         'vessel': 55,\n",
       "         'dreadful': 6,\n",
       "         'lost': 47,\n",
       "         'swallowed': 13,\n",
       "         'gudgeon': 1,\n",
       "         'retires': 1,\n",
       "         'security': 3,\n",
       "         'sleeps': 7,\n",
       "         'montaigne': 1,\n",
       "         '_apology': 1,\n",
       "         'raimond': 1,\n",
       "         'sebond_': 1,\n",
       "         'let': 158,\n",
       "         'fly': 14,\n",
       "         'nick': 2,\n",
       "         'me': 629,\n",
       "         'if': 501,\n",
       "         'described': 9,\n",
       "         'noble': 44,\n",
       "         'moses': 2,\n",
       "         'patient': 6,\n",
       "         'job': 14,\n",
       "         '_rabelais_': 1,\n",
       "         'liver': 4,\n",
       "         'cartloads': 1,\n",
       "         '_stowe': 1,\n",
       "         'annals_': 1,\n",
       "         'seas': 87,\n",
       "         'seethe': 3,\n",
       "         'like': 647,\n",
       "         'boiling': 15,\n",
       "         'pan': 5,\n",
       "         '_lord': 1,\n",
       "         'bacon': 1,\n",
       "         'psalms_': 1,\n",
       "         'bulk': 32,\n",
       "         'ork': 1,\n",
       "         'received': 31,\n",
       "         'nothing': 115,\n",
       "         'certain': 91,\n",
       "         'they': 668,\n",
       "         'exceeding': 12,\n",
       "         'fat': 14,\n",
       "         'insomuch': 2,\n",
       "         'an': 600,\n",
       "         'incredible': 9,\n",
       "         'quantity': 13,\n",
       "         'oil': 90,\n",
       "         'extracted': 5,\n",
       "         '_ibid_': 3,\n",
       "         '_history': 1,\n",
       "         'death_': 1,\n",
       "         'sovereignest': 1,\n",
       "         'parmacetti': 3,\n",
       "         'inward': 5,\n",
       "         'bruise': 1,\n",
       "         '_king': 1,\n",
       "         'henry_': 1,\n",
       "         '_hamlet_': 1,\n",
       "         'secure': 13,\n",
       "         'skill': 10,\n",
       "         'leach': 1,\n",
       "         'art': 41,\n",
       "         'mote': 1,\n",
       "         'availle': 1,\n",
       "         'returne': 1,\n",
       "         'againe': 1,\n",
       "         'wound': 17,\n",
       "         'worker': 1,\n",
       "         'lowly': 8,\n",
       "         'dinting': 1,\n",
       "         'breast': 7,\n",
       "         'bred': 9,\n",
       "         'restless': 4,\n",
       "         'paine': 1,\n",
       "         'wounded': 9,\n",
       "         'flies': 7,\n",
       "         'thro': 1,\n",
       "         'maine': 1,\n",
       "         'faerie': 1,\n",
       "         'queen_': 1,\n",
       "         'immense': 16,\n",
       "         'motion': 17,\n",
       "         'vast': 73,\n",
       "         'bodies': 9,\n",
       "         'can': 247,\n",
       "         'peaceful': 6,\n",
       "         'calm': 41,\n",
       "         'trouble': 11,\n",
       "         'ocean': 79,\n",
       "         'till': 123,\n",
       "         'boil': 2,\n",
       "         '_sir': 4,\n",
       "         'william': 4,\n",
       "         'davenant': 1,\n",
       "         'preface': 1,\n",
       "         'gondibert_': 1,\n",
       "         'spermacetti': 3,\n",
       "         'men': 244,\n",
       "         'might': 183,\n",
       "         'justly': 3,\n",
       "         'doubt': 32,\n",
       "         'since': 65,\n",
       "         'learned': 25,\n",
       "         'hosmannus': 1,\n",
       "         'work': 109,\n",
       "         'thirty': 28,\n",
       "         'years': 97,\n",
       "         'saith': 5,\n",
       "         'plainly': 39,\n",
       "         '_nescio': 1,\n",
       "         'quid': 2,\n",
       "         'sit_': 1,\n",
       "         't': 290,\n",
       "         'browne': 6,\n",
       "         'sperma': 3,\n",
       "         'ceti': 3,\n",
       "         'vide': 1,\n",
       "         'v': 7,\n",
       "         'e': 52,\n",
       "         'spencer': 1,\n",
       "         'talus': 1,\n",
       "         'modern': 18,\n",
       "         'flail': 1,\n",
       "         'threatens': 1,\n",
       "         'ruin': 5,\n",
       "         'ponderous': 13,\n",
       "         'fixed': 38,\n",
       "         'jav': 1,\n",
       "         'lins': 1,\n",
       "         'side': 208,\n",
       "         'wears': 7,\n",
       "         'back': 161,\n",
       "         'grove': 3,\n",
       "         'pikes': 2,\n",
       "         '_waller': 1,\n",
       "         'battle': 31,\n",
       "         'summer': 16,\n",
       "         'islands_': 1,\n",
       "         'commonwealth': 1,\n",
       "         'state': 33,\n",
       "         'latin': 4,\n",
       "         'civitas': 1,\n",
       "         'artificial': 5,\n",
       "         'man': 527,\n",
       "         '_opening': 1,\n",
       "         'sentence': 3,\n",
       "         'hobbes': 1,\n",
       "         'leviathan_': 1,\n",
       "         'silly': 5,\n",
       "         'mansoul': 1,\n",
       "         'without': 164,\n",
       "         'chewing': 1,\n",
       "         'sprat': 1,\n",
       "         '_pilgrim': 1,\n",
       "         'progress_': 1,\n",
       "         'hugest': 4,\n",
       "         'swim': 21,\n",
       "         'stream': 11,\n",
       "         '_paradise': 1,\n",
       "         'lost_': 1,\n",
       "         'living': 73,\n",
       "         'creatures': 34,\n",
       "         'stretched': 10,\n",
       "         'promontory': 5,\n",
       "         'swims': 8,\n",
       "         'seems': 87,\n",
       "         'moving': 15,\n",
       "         'gills': 4,\n",
       "         'draws': 1,\n",
       "         'breath': 18,\n",
       "         'spouts': 16,\n",
       "         'mighty': 47,\n",
       "         'water': 190,\n",
       "         'swimming': 30,\n",
       "         '_fuller': 1,\n",
       "         'holy': 21,\n",
       "         'state_': 1,\n",
       "         'close': 56,\n",
       "         'behind': 50,\n",
       "         ...})"
      ]
     },
     "execution_count": 9,
     "metadata": {},
     "output_type": "execute_result"
    }
   ],
   "source": [
    "word_freq_dict"
   ]
  },
  {
   "cell_type": "code",
   "execution_count": null,
   "metadata": {
    "id": "MUJY8ffVx3m2"
   },
   "outputs": [],
   "source": [
    "probs = {}     \n",
    "Total = sum(word_freq_dict.values())    \n",
    "for k in word_freq_dict.keys():\n",
    "    probs[k] = word_freq_dict[k]/Total"
   ]
  },
  {
   "cell_type": "code",
   "execution_count": null,
   "metadata": {
    "id": "-OknbLTZx_Dv"
   },
   "outputs": [],
   "source": [
    "def my_autocorrect(input_word):\n",
    "    input_word = input_word.lower()\n",
    "    if input_word in V:\n",
    "        return('Your word seems to be correct')\n",
    "    else:\n",
    "        similarities = [1-(textdistance.Jaccard(qval=2).distance(v,input_word)) for v in word_freq_dict.keys()]\n",
    "        df = pd.DataFrame.from_dict(probs, orient='index').reset_index()\n",
    "        df = df.rename(columns={'index':'Word', 0:'Prob'})\n",
    "        df['Similarity'] = similarities\n",
    "        output = df.sort_values(['Similarity'], ascending=False).head()\n",
    "        return(output)"
   ]
  },
  {
   "cell_type": "code",
   "execution_count": null,
   "metadata": {
    "colab": {
     "base_uri": "https://localhost:8080/",
     "height": 206
    },
    "id": "zLVoJ0-HyIyM",
    "outputId": "f8a82bcd-e013-47c0-fb8f-c44f52ddef92"
   },
   "outputs": [
    {
     "data": {
      "text/html": [
       "<div>\n",
       "<style scoped>\n",
       "    .dataframe tbody tr th:only-of-type {\n",
       "        vertical-align: middle;\n",
       "    }\n",
       "\n",
       "    .dataframe tbody tr th {\n",
       "        vertical-align: top;\n",
       "    }\n",
       "\n",
       "    .dataframe thead th {\n",
       "        text-align: right;\n",
       "    }\n",
       "</style>\n",
       "<table border=\"1\" class=\"dataframe\">\n",
       "  <thead>\n",
       "    <tr style=\"text-align: right;\">\n",
       "      <th></th>\n",
       "      <th>Word</th>\n",
       "      <th>Prob</th>\n",
       "      <th>Similarity</th>\n",
       "    </tr>\n",
       "  </thead>\n",
       "  <tbody>\n",
       "    <tr>\n",
       "      <th>923</th>\n",
       "      <td>learned</td>\n",
       "      <td>0.000112</td>\n",
       "      <td>0.714286</td>\n",
       "    </tr>\n",
       "    <tr>\n",
       "      <th>4918</th>\n",
       "      <td>learn</td>\n",
       "      <td>0.000040</td>\n",
       "      <td>0.666667</td>\n",
       "    </tr>\n",
       "    <tr>\n",
       "      <th>6235</th>\n",
       "      <td>earned</td>\n",
       "      <td>0.000013</td>\n",
       "      <td>0.571429</td>\n",
       "    </tr>\n",
       "    <tr>\n",
       "      <th>5912</th>\n",
       "      <td>learnt</td>\n",
       "      <td>0.000004</td>\n",
       "      <td>0.571429</td>\n",
       "    </tr>\n",
       "    <tr>\n",
       "      <th>17078</th>\n",
       "      <td>clearness</td>\n",
       "      <td>0.000004</td>\n",
       "      <td>0.555556</td>\n",
       "    </tr>\n",
       "  </tbody>\n",
       "</table>\n",
       "</div>"
      ],
      "text/plain": [
       "            Word      Prob  Similarity\n",
       "923      learned  0.000112    0.714286\n",
       "4918       learn  0.000040    0.666667\n",
       "6235      earned  0.000013    0.571429\n",
       "5912      learnt  0.000004    0.571429\n",
       "17078  clearness  0.000004    0.555556"
      ]
     },
     "execution_count": 21,
     "metadata": {},
     "output_type": "execute_result"
    }
   ],
   "source": [
    "my_autocorrect(\"learnen\")"
   ]
  },
  {
   "cell_type": "code",
   "execution_count": null,
   "metadata": {
    "colab": {
     "base_uri": "https://localhost:8080/",
     "height": 423
    },
    "id": "kIsvYIC8VgD4",
    "outputId": "671c5983-e2e5-4141-845e-939fb9c00a9e"
   },
   "outputs": [
    {
     "data": {
      "text/html": [
       "<div>\n",
       "<style scoped>\n",
       "    .dataframe tbody tr th:only-of-type {\n",
       "        vertical-align: middle;\n",
       "    }\n",
       "\n",
       "    .dataframe tbody tr th {\n",
       "        vertical-align: top;\n",
       "    }\n",
       "\n",
       "    .dataframe thead th {\n",
       "        text-align: right;\n",
       "    }\n",
       "</style>\n",
       "<table border=\"1\" class=\"dataframe\">\n",
       "  <thead>\n",
       "    <tr style=\"text-align: right;\">\n",
       "      <th></th>\n",
       "      <th>index</th>\n",
       "      <th>0</th>\n",
       "    </tr>\n",
       "  </thead>\n",
       "  <tbody>\n",
       "    <tr>\n",
       "      <th>0</th>\n",
       "      <td>the</td>\n",
       "      <td>0.066033</td>\n",
       "    </tr>\n",
       "    <tr>\n",
       "      <th>1</th>\n",
       "      <td>project</td>\n",
       "      <td>0.000409</td>\n",
       "    </tr>\n",
       "    <tr>\n",
       "      <th>2</th>\n",
       "      <td>gutenberg</td>\n",
       "      <td>0.000422</td>\n",
       "    </tr>\n",
       "    <tr>\n",
       "      <th>3</th>\n",
       "      <td>ebook</td>\n",
       "      <td>0.000045</td>\n",
       "    </tr>\n",
       "    <tr>\n",
       "      <th>4</th>\n",
       "      <td>of</td>\n",
       "      <td>0.030279</td>\n",
       "    </tr>\n",
       "    <tr>\n",
       "      <th>...</th>\n",
       "      <td>...</td>\n",
       "      <td>...</td>\n",
       "    </tr>\n",
       "    <tr>\n",
       "      <th>17642</th>\n",
       "      <td>confirmed</td>\n",
       "      <td>0.000004</td>\n",
       "    </tr>\n",
       "    <tr>\n",
       "      <th>17643</th>\n",
       "      <td>pg</td>\n",
       "      <td>0.000004</td>\n",
       "    </tr>\n",
       "    <tr>\n",
       "      <th>17644</th>\n",
       "      <td>includes</td>\n",
       "      <td>0.000004</td>\n",
       "    </tr>\n",
       "    <tr>\n",
       "      <th>17645</th>\n",
       "      <td>subscribe</td>\n",
       "      <td>0.000004</td>\n",
       "    </tr>\n",
       "    <tr>\n",
       "      <th>17646</th>\n",
       "      <td>newsletter</td>\n",
       "      <td>0.000004</td>\n",
       "    </tr>\n",
       "  </tbody>\n",
       "</table>\n",
       "<p>17647 rows × 2 columns</p>\n",
       "</div>"
      ],
      "text/plain": [
       "            index         0\n",
       "0             the  0.066033\n",
       "1         project  0.000409\n",
       "2       gutenberg  0.000422\n",
       "3           ebook  0.000045\n",
       "4              of  0.030279\n",
       "...           ...       ...\n",
       "17642   confirmed  0.000004\n",
       "17643          pg  0.000004\n",
       "17644    includes  0.000004\n",
       "17645   subscribe  0.000004\n",
       "17646  newsletter  0.000004\n",
       "\n",
       "[17647 rows x 2 columns]"
      ]
     },
     "execution_count": 19,
     "metadata": {},
     "output_type": "execute_result"
    }
   ],
   "source": [
    "df = pd.DataFrame.from_dict(probs, orient='index').reset_index()\n",
    "df"
   ]
  },
  {
   "cell_type": "code",
   "execution_count": null,
   "metadata": {
    "id": "GSqTiLinyVyS"
   },
   "outputs": [],
   "source": [
    "def autocorrect(input_word):\n",
    "    input_word = input_word.lower()\n",
    "    if input_word in V:\n",
    "        return('Your word seems to be correct')\n",
    "    else:\n",
    "        similarities = [1-(textdistance.ratcliff_obershelp(qval=2).distance(v,input_word)) for v in word_freq_dict.keys()]\n",
    "        df = pd.DataFrame.from_dict(probs, orient='index').reset_index()\n",
    "        df = df.rename(columns={'index':'Word', 0:'Prob'})\n",
    "        df['Similarity'] = similarities\n",
    "        output = df.sort_values(['Similarity', 'Prob'], ascending=False).head()\n",
    "        return(output)"
   ]
  },
  {
   "cell_type": "code",
   "execution_count": null,
   "metadata": {
    "id": "Fbbvu5RhpR26"
   },
   "outputs": [],
   "source": [
    "autocorrect(\"lond\")"
   ]
  },
  {
   "cell_type": "code",
   "execution_count": null,
   "metadata": {
    "id": "XUEvB-vgGmBW"
   },
   "outputs": [],
   "source": [
    "similarities = [1-(textdistance.Jaccard(qval=2).distance(v,\"blenc\")) for v in word_freq_dict.keys()]\n",
    "similarities"
   ]
  },
  {
   "cell_type": "code",
   "execution_count": null,
   "metadata": {
    "id": "agvn7pWOGwiw"
   },
   "outputs": [],
   "source": [
    "token1=\"hello world\".split()\n",
    "token2=\"world hellodwafa\".split()\n",
    "\n",
    "textdistance.Jaccard(qval=2).distance(token1, token2)"
   ]
  },
  {
   "cell_type": "code",
   "execution_count": null,
   "metadata": {
    "colab": {
     "base_uri": "https://localhost:8080/"
    },
    "id": "vVv449fVHI1K",
    "outputId": "c93fda48-9e8e-4906-f367-1ad3415f5492"
   },
   "outputs": [
    {
     "name": "stdout",
     "output_type": "stream",
     "text": [
      "[nltk_data] Downloading package words to /root/nltk_data...\n",
      "[nltk_data]   Unzipping corpora/words.zip.\n"
     ]
    }
   ],
   "source": [
    "import nltk\n",
    "from nltk.corpus import words\n",
    "from nltk.metrics.distance import (\n",
    "    edit_distance,\n",
    "    jaccard_distance,\n",
    "    )\n",
    "from nltk.util import ngrams\n",
    "nltk.download('words')\n",
    "import pandas"
   ]
  },
  {
   "cell_type": "code",
   "execution_count": null,
   "metadata": {
    "colab": {
     "base_uri": "https://localhost:8080/"
    },
    "id": "ZoCi_RUIkVCQ",
    "outputId": "625de60a-843c-40fd-8c17-3631db2b8a25"
   },
   "outputs": [
    {
     "data": {
      "text/plain": [
       "0                 A\n",
       "1                 a\n",
       "2                aa\n",
       "3               aal\n",
       "4             aalii\n",
       "            ...    \n",
       "236731       yellow\n",
       "236732          yes\n",
       "236733    yesterday\n",
       "236734          you\n",
       "236735        young\n",
       "Length: 236736, dtype: object"
      ]
     },
     "execution_count": 23,
     "metadata": {},
     "output_type": "execute_result"
    }
   ],
   "source": [
    "correct_spellings = words.words()\n",
    "spellings_series = pandas.Series(correct_spellings)\n",
    "spellings_series"
   ]
  },
  {
   "cell_type": "code",
   "execution_count": null,
   "metadata": {
    "id": "UzdMjnp6kiXy"
   },
   "outputs": [],
   "source": [
    "import numpy as np\n",
    "from nltk.tokenize import RegexpTokenizer\n",
    "from keras.models import Sequential, load_model\n",
    "from keras.layers import LSTM\n",
    "from keras.layers.core import Dense, Activation\n",
    "from tensorflow.keras.optimizers import RMSprop\n",
    "import matplotlib.pyplot as plt\n",
    "import pickle\n",
    "import heapq"
   ]
  },
  {
   "cell_type": "code",
   "execution_count": null,
   "metadata": {
    "colab": {
     "base_uri": "https://localhost:8080/"
    },
    "id": "XLEQubhjDbNN",
    "outputId": "62818a4f-6f12-47b1-cebe-e54be4a7dc46"
   },
   "outputs": [
    {
     "name": "stdout",
     "output_type": "stream",
     "text": [
      "corpus length: 581888\n"
     ]
    }
   ],
   "source": [
    "path = '/content/drive/Shareddrives/NLP/1661-0.txt'\n",
    "text = open(path).read().lower()\n",
    "print('corpus length:', len(text))"
   ]
  },
  {
   "cell_type": "code",
   "execution_count": null,
   "metadata": {
    "id": "nABj6eDUEEFG"
   },
   "outputs": [],
   "source": [
    "tokenizer = RegexpTokenizer(r'\\w+')\n",
    "words = tokenizer.tokenize(text)"
   ]
  },
  {
   "cell_type": "code",
   "execution_count": null,
   "metadata": {
    "colab": {
     "base_uri": "https://localhost:8080/"
    },
    "id": "2G4bJVvSEr4i",
    "outputId": "61485029-0273-4de8-c93a-948127d788e8"
   },
   "outputs": [
    {
     "data": {
      "text/plain": [
       "['project',\n",
       " 'gutenberg',\n",
       " 's',\n",
       " 'the',\n",
       " 'adventures',\n",
       " 'of',\n",
       " 'sherlock',\n",
       " 'holmes',\n",
       " 'by',\n",
       " 'arthur',\n",
       " 'conan',\n",
       " 'doyle',\n",
       " 'this',\n",
       " 'ebook',\n",
       " 'is',\n",
       " 'for',\n",
       " 'the',\n",
       " 'use',\n",
       " 'of',\n",
       " 'anyone',\n",
       " 'anywhere',\n",
       " 'at',\n",
       " 'no',\n",
       " 'cost',\n",
       " 'and',\n",
       " 'with',\n",
       " 'almost',\n",
       " 'no',\n",
       " 'restrictions',\n",
       " 'whatsoever',\n",
       " 'you',\n",
       " 'may',\n",
       " 'copy',\n",
       " 'it',\n",
       " 'give',\n",
       " 'it',\n",
       " 'away',\n",
       " 'or',\n",
       " 're',\n",
       " 'use',\n",
       " 'it',\n",
       " 'under',\n",
       " 'the',\n",
       " 'terms',\n",
       " 'of',\n",
       " 'the',\n",
       " 'project',\n",
       " 'gutenberg',\n",
       " 'license',\n",
       " 'included',\n",
       " 'with',\n",
       " 'this',\n",
       " 'ebook',\n",
       " 'or',\n",
       " 'online',\n",
       " 'at',\n",
       " 'www',\n",
       " 'gutenberg',\n",
       " 'net',\n",
       " 'title',\n",
       " 'the',\n",
       " 'adventures',\n",
       " 'of',\n",
       " 'sherlock',\n",
       " 'holmes',\n",
       " 'author',\n",
       " 'arthur',\n",
       " 'conan',\n",
       " 'doyle',\n",
       " 'release',\n",
       " 'date',\n",
       " 'november',\n",
       " '29',\n",
       " '2002',\n",
       " 'ebook',\n",
       " '1661',\n",
       " 'last',\n",
       " 'updated',\n",
       " 'may',\n",
       " '20',\n",
       " '2019',\n",
       " 'language',\n",
       " 'english',\n",
       " 'character',\n",
       " 'set',\n",
       " 'encoding',\n",
       " 'utf',\n",
       " '8',\n",
       " 'start',\n",
       " 'of',\n",
       " 'this',\n",
       " 'project',\n",
       " 'gutenberg',\n",
       " 'ebook',\n",
       " 'the',\n",
       " 'adventures',\n",
       " 'of',\n",
       " 'sherlock',\n",
       " 'holmes',\n",
       " 'produced',\n",
       " 'by',\n",
       " 'an',\n",
       " 'anonymous',\n",
       " 'project',\n",
       " 'gutenberg',\n",
       " 'volunteer',\n",
       " 'and',\n",
       " 'jose',\n",
       " 'menendez',\n",
       " 'cover',\n",
       " 'the',\n",
       " 'adventures',\n",
       " 'of',\n",
       " 'sherlock',\n",
       " 'holmes',\n",
       " 'by',\n",
       " 'arthur',\n",
       " 'conan',\n",
       " 'doyle',\n",
       " 'contents',\n",
       " 'i',\n",
       " 'a',\n",
       " 'scandal',\n",
       " 'in',\n",
       " 'bohemia',\n",
       " 'ii',\n",
       " 'the',\n",
       " 'red',\n",
       " 'headed',\n",
       " 'league',\n",
       " 'iii',\n",
       " 'a',\n",
       " 'case',\n",
       " 'of',\n",
       " 'identity',\n",
       " 'iv',\n",
       " 'the',\n",
       " 'boscombe',\n",
       " 'valley',\n",
       " 'mystery',\n",
       " 'v',\n",
       " 'the',\n",
       " 'five',\n",
       " 'orange',\n",
       " 'pips',\n",
       " 'vi',\n",
       " 'the',\n",
       " 'man',\n",
       " 'with',\n",
       " 'the',\n",
       " 'twisted',\n",
       " 'lip',\n",
       " 'vii',\n",
       " 'the',\n",
       " 'adventure',\n",
       " 'of',\n",
       " 'the',\n",
       " 'blue',\n",
       " 'carbuncle',\n",
       " 'viii',\n",
       " 'the',\n",
       " 'adventure',\n",
       " 'of',\n",
       " 'the',\n",
       " 'speckled',\n",
       " 'band',\n",
       " 'ix',\n",
       " 'the',\n",
       " 'adventure',\n",
       " 'of',\n",
       " 'the',\n",
       " 'engineer',\n",
       " 's',\n",
       " 'thumb',\n",
       " 'x',\n",
       " 'the',\n",
       " 'adventure',\n",
       " 'of',\n",
       " 'the',\n",
       " 'noble',\n",
       " 'bachelor',\n",
       " 'xi',\n",
       " 'the',\n",
       " 'adventure',\n",
       " 'of',\n",
       " 'the',\n",
       " 'beryl',\n",
       " 'coronet',\n",
       " 'xii',\n",
       " 'the',\n",
       " 'adventure',\n",
       " 'of',\n",
       " 'the',\n",
       " 'copper',\n",
       " 'beeches',\n",
       " 'i',\n",
       " 'a',\n",
       " 'scandal',\n",
       " 'in',\n",
       " 'bohemia',\n",
       " 'i',\n",
       " 'to',\n",
       " 'sherlock',\n",
       " 'holmes',\n",
       " 'she',\n",
       " 'is',\n",
       " 'always',\n",
       " '_the_',\n",
       " 'woman',\n",
       " 'i',\n",
       " 'have',\n",
       " 'seldom',\n",
       " 'heard',\n",
       " 'him',\n",
       " 'mention',\n",
       " 'her',\n",
       " 'under',\n",
       " 'any',\n",
       " 'other',\n",
       " 'name',\n",
       " 'in',\n",
       " 'his',\n",
       " 'eyes',\n",
       " 'she',\n",
       " 'eclipses',\n",
       " 'and',\n",
       " 'predominates',\n",
       " 'the',\n",
       " 'whole',\n",
       " 'of',\n",
       " 'her',\n",
       " 'sex',\n",
       " 'it',\n",
       " 'was',\n",
       " 'not',\n",
       " 'that',\n",
       " 'he',\n",
       " 'felt',\n",
       " 'any',\n",
       " 'emotion',\n",
       " 'akin',\n",
       " 'to',\n",
       " 'love',\n",
       " 'for',\n",
       " 'irene',\n",
       " 'adler',\n",
       " 'all',\n",
       " 'emotions',\n",
       " 'and',\n",
       " 'that',\n",
       " 'one',\n",
       " 'particularly',\n",
       " 'were',\n",
       " 'abhorrent',\n",
       " 'to',\n",
       " 'his',\n",
       " 'cold',\n",
       " 'precise',\n",
       " 'but',\n",
       " 'admirably',\n",
       " 'balanced',\n",
       " 'mind',\n",
       " 'he',\n",
       " 'was',\n",
       " 'i',\n",
       " 'take',\n",
       " 'it',\n",
       " 'the',\n",
       " 'most',\n",
       " 'perfect',\n",
       " 'reasoning',\n",
       " 'and',\n",
       " 'observing',\n",
       " 'machine',\n",
       " 'that',\n",
       " 'the',\n",
       " 'world',\n",
       " 'has',\n",
       " 'seen',\n",
       " 'but',\n",
       " 'as',\n",
       " 'a',\n",
       " 'lover',\n",
       " 'he',\n",
       " 'would',\n",
       " 'have',\n",
       " 'placed',\n",
       " 'himself',\n",
       " 'in',\n",
       " 'a',\n",
       " 'false',\n",
       " 'position',\n",
       " 'he',\n",
       " 'never',\n",
       " 'spoke',\n",
       " 'of',\n",
       " 'the',\n",
       " 'softer',\n",
       " 'passions',\n",
       " 'save',\n",
       " 'with',\n",
       " 'a',\n",
       " 'gibe',\n",
       " 'and',\n",
       " 'a',\n",
       " 'sneer',\n",
       " 'they',\n",
       " 'were',\n",
       " 'admirable',\n",
       " 'things',\n",
       " 'for',\n",
       " 'the',\n",
       " 'observer',\n",
       " 'excellent',\n",
       " 'for',\n",
       " 'drawing',\n",
       " 'the',\n",
       " 'veil',\n",
       " 'from',\n",
       " 'men',\n",
       " 's',\n",
       " 'motives',\n",
       " 'and',\n",
       " 'actions',\n",
       " 'but',\n",
       " 'for',\n",
       " 'the',\n",
       " 'trained',\n",
       " 'reasoner',\n",
       " 'to',\n",
       " 'admit',\n",
       " 'such',\n",
       " 'intrusions',\n",
       " 'into',\n",
       " 'his',\n",
       " 'own',\n",
       " 'delicate',\n",
       " 'and',\n",
       " 'finely',\n",
       " 'adjusted',\n",
       " 'temperament',\n",
       " 'was',\n",
       " 'to',\n",
       " 'introduce',\n",
       " 'a',\n",
       " 'distracting',\n",
       " 'factor',\n",
       " 'which',\n",
       " 'might',\n",
       " 'throw',\n",
       " 'a',\n",
       " 'doubt',\n",
       " 'upon',\n",
       " 'all',\n",
       " 'his',\n",
       " 'mental',\n",
       " 'results',\n",
       " 'grit',\n",
       " 'in',\n",
       " 'a',\n",
       " 'sensitive',\n",
       " 'instrument',\n",
       " 'or',\n",
       " 'a',\n",
       " 'crack',\n",
       " 'in',\n",
       " 'one',\n",
       " 'of',\n",
       " 'his',\n",
       " 'own',\n",
       " 'high',\n",
       " 'power',\n",
       " 'lenses',\n",
       " 'would',\n",
       " 'not',\n",
       " 'be',\n",
       " 'more',\n",
       " 'disturbing',\n",
       " 'than',\n",
       " 'a',\n",
       " 'strong',\n",
       " 'emotion',\n",
       " 'in',\n",
       " 'a',\n",
       " 'nature',\n",
       " 'such',\n",
       " 'as',\n",
       " 'his',\n",
       " 'and',\n",
       " 'yet',\n",
       " 'there',\n",
       " 'was',\n",
       " 'but',\n",
       " 'one',\n",
       " 'woman',\n",
       " 'to',\n",
       " 'him',\n",
       " 'and',\n",
       " 'that',\n",
       " 'woman',\n",
       " 'was',\n",
       " 'the',\n",
       " 'late',\n",
       " 'irene',\n",
       " 'adler',\n",
       " 'of',\n",
       " 'dubious',\n",
       " 'and',\n",
       " 'questionable',\n",
       " 'memory',\n",
       " 'i',\n",
       " 'had',\n",
       " 'seen',\n",
       " 'little',\n",
       " 'of',\n",
       " 'holmes',\n",
       " 'lately',\n",
       " 'my',\n",
       " 'marriage',\n",
       " 'had',\n",
       " 'drifted',\n",
       " 'us',\n",
       " 'away',\n",
       " 'from',\n",
       " 'each',\n",
       " 'other',\n",
       " 'my',\n",
       " 'own',\n",
       " 'complete',\n",
       " 'happiness',\n",
       " 'and',\n",
       " 'the',\n",
       " 'home',\n",
       " 'centred',\n",
       " 'interests',\n",
       " 'which',\n",
       " 'rise',\n",
       " 'up',\n",
       " 'around',\n",
       " 'the',\n",
       " 'man',\n",
       " 'who',\n",
       " 'first',\n",
       " 'finds',\n",
       " 'himself',\n",
       " 'master',\n",
       " 'of',\n",
       " 'his',\n",
       " 'own',\n",
       " 'establishment',\n",
       " 'were',\n",
       " 'sufficient',\n",
       " 'to',\n",
       " 'absorb',\n",
       " 'all',\n",
       " 'my',\n",
       " 'attention',\n",
       " 'while',\n",
       " 'holmes',\n",
       " 'who',\n",
       " 'loathed',\n",
       " 'every',\n",
       " 'form',\n",
       " 'of',\n",
       " 'society',\n",
       " 'with',\n",
       " 'his',\n",
       " 'whole',\n",
       " 'bohemian',\n",
       " 'soul',\n",
       " 'remained',\n",
       " 'in',\n",
       " 'our',\n",
       " 'lodgings',\n",
       " 'in',\n",
       " 'baker',\n",
       " 'street',\n",
       " 'buried',\n",
       " 'among',\n",
       " 'his',\n",
       " 'old',\n",
       " 'books',\n",
       " 'and',\n",
       " 'alternating',\n",
       " 'from',\n",
       " 'week',\n",
       " 'to',\n",
       " 'week',\n",
       " 'between',\n",
       " 'cocaine',\n",
       " 'and',\n",
       " 'ambition',\n",
       " 'the',\n",
       " 'drowsiness',\n",
       " 'of',\n",
       " 'the',\n",
       " 'drug',\n",
       " 'and',\n",
       " 'the',\n",
       " 'fierce',\n",
       " 'energy',\n",
       " 'of',\n",
       " 'his',\n",
       " 'own',\n",
       " 'keen',\n",
       " 'nature',\n",
       " 'he',\n",
       " 'was',\n",
       " 'still',\n",
       " 'as',\n",
       " 'ever',\n",
       " 'deeply',\n",
       " 'attracted',\n",
       " 'by',\n",
       " 'the',\n",
       " 'study',\n",
       " 'of',\n",
       " 'crime',\n",
       " 'and',\n",
       " 'occupied',\n",
       " 'his',\n",
       " 'immense',\n",
       " 'faculties',\n",
       " 'and',\n",
       " 'extraordinary',\n",
       " 'powers',\n",
       " 'of',\n",
       " 'observation',\n",
       " 'in',\n",
       " 'following',\n",
       " 'out',\n",
       " 'those',\n",
       " 'clues',\n",
       " 'and',\n",
       " 'clearing',\n",
       " 'up',\n",
       " 'those',\n",
       " 'mysteries',\n",
       " 'which',\n",
       " 'had',\n",
       " 'been',\n",
       " 'abandoned',\n",
       " 'as',\n",
       " 'hopeless',\n",
       " 'by',\n",
       " 'the',\n",
       " 'official',\n",
       " 'police',\n",
       " 'from',\n",
       " 'time',\n",
       " 'to',\n",
       " 'time',\n",
       " 'i',\n",
       " 'heard',\n",
       " 'some',\n",
       " 'vague',\n",
       " 'account',\n",
       " 'of',\n",
       " 'his',\n",
       " 'doings',\n",
       " 'of',\n",
       " 'his',\n",
       " 'summons',\n",
       " 'to',\n",
       " 'odessa',\n",
       " 'in',\n",
       " 'the',\n",
       " 'case',\n",
       " 'of',\n",
       " 'the',\n",
       " 'trepoff',\n",
       " 'murder',\n",
       " 'of',\n",
       " 'his',\n",
       " 'clearing',\n",
       " 'up',\n",
       " 'of',\n",
       " 'the',\n",
       " 'singular',\n",
       " 'tragedy',\n",
       " 'of',\n",
       " 'the',\n",
       " 'atkinson',\n",
       " 'brothers',\n",
       " 'at',\n",
       " 'trincomalee',\n",
       " 'and',\n",
       " 'finally',\n",
       " 'of',\n",
       " 'the',\n",
       " 'mission',\n",
       " 'which',\n",
       " 'he',\n",
       " 'had',\n",
       " 'accomplished',\n",
       " 'so',\n",
       " 'delicately',\n",
       " 'and',\n",
       " 'successfully',\n",
       " 'for',\n",
       " 'the',\n",
       " 'reigning',\n",
       " 'family',\n",
       " 'of',\n",
       " 'holland',\n",
       " 'beyond',\n",
       " 'these',\n",
       " 'signs',\n",
       " 'of',\n",
       " 'his',\n",
       " 'activity',\n",
       " 'however',\n",
       " 'which',\n",
       " 'i',\n",
       " 'merely',\n",
       " 'shared',\n",
       " 'with',\n",
       " 'all',\n",
       " 'the',\n",
       " 'readers',\n",
       " 'of',\n",
       " 'the',\n",
       " 'daily',\n",
       " 'press',\n",
       " 'i',\n",
       " 'knew',\n",
       " 'little',\n",
       " 'of',\n",
       " 'my',\n",
       " 'former',\n",
       " 'friend',\n",
       " 'and',\n",
       " 'companion',\n",
       " 'one',\n",
       " 'night',\n",
       " 'it',\n",
       " 'was',\n",
       " 'on',\n",
       " 'the',\n",
       " 'twentieth',\n",
       " 'of',\n",
       " 'march',\n",
       " '1888',\n",
       " 'i',\n",
       " 'was',\n",
       " 'returning',\n",
       " 'from',\n",
       " 'a',\n",
       " 'journey',\n",
       " 'to',\n",
       " 'a',\n",
       " 'patient',\n",
       " 'for',\n",
       " 'i',\n",
       " 'had',\n",
       " 'now',\n",
       " 'returned',\n",
       " 'to',\n",
       " 'civil',\n",
       " 'practice',\n",
       " 'when',\n",
       " 'my',\n",
       " 'way',\n",
       " 'led',\n",
       " 'me',\n",
       " 'through',\n",
       " 'baker',\n",
       " 'street',\n",
       " 'as',\n",
       " 'i',\n",
       " 'passed',\n",
       " 'the',\n",
       " 'well',\n",
       " 'remembered',\n",
       " 'door',\n",
       " 'which',\n",
       " 'must',\n",
       " 'always',\n",
       " 'be',\n",
       " 'associated',\n",
       " 'in',\n",
       " 'my',\n",
       " 'mind',\n",
       " 'with',\n",
       " 'my',\n",
       " 'wooing',\n",
       " 'and',\n",
       " 'with',\n",
       " 'the',\n",
       " 'dark',\n",
       " 'incidents',\n",
       " 'of',\n",
       " 'the',\n",
       " 'study',\n",
       " 'in',\n",
       " 'scarlet',\n",
       " 'i',\n",
       " 'was',\n",
       " 'seized',\n",
       " 'with',\n",
       " 'a',\n",
       " 'keen',\n",
       " 'desire',\n",
       " 'to',\n",
       " 'see',\n",
       " 'holmes',\n",
       " 'again',\n",
       " 'and',\n",
       " 'to',\n",
       " 'know',\n",
       " 'how',\n",
       " 'he',\n",
       " 'was',\n",
       " 'employing',\n",
       " 'his',\n",
       " 'extraordinary',\n",
       " 'powers',\n",
       " 'his',\n",
       " 'rooms',\n",
       " 'were',\n",
       " 'brilliantly',\n",
       " 'lit',\n",
       " 'and',\n",
       " 'even',\n",
       " 'as',\n",
       " 'i',\n",
       " 'looked',\n",
       " 'up',\n",
       " 'i',\n",
       " 'saw',\n",
       " 'his',\n",
       " 'tall',\n",
       " 'spare',\n",
       " 'figure',\n",
       " 'pass',\n",
       " 'twice',\n",
       " 'in',\n",
       " 'a',\n",
       " 'dark',\n",
       " 'silhouette',\n",
       " 'against',\n",
       " 'the',\n",
       " 'blind',\n",
       " 'he',\n",
       " 'was',\n",
       " 'pacing',\n",
       " 'the',\n",
       " 'room',\n",
       " 'swiftly',\n",
       " 'eagerly',\n",
       " 'with',\n",
       " 'his',\n",
       " 'head',\n",
       " 'sunk',\n",
       " 'upon',\n",
       " 'his',\n",
       " 'chest',\n",
       " 'and',\n",
       " 'his',\n",
       " 'hands',\n",
       " 'clasped',\n",
       " 'behind',\n",
       " 'him',\n",
       " 'to',\n",
       " 'me',\n",
       " 'who',\n",
       " 'knew',\n",
       " 'his',\n",
       " 'every',\n",
       " 'mood',\n",
       " 'and',\n",
       " 'habit',\n",
       " 'his',\n",
       " 'attitude',\n",
       " 'and',\n",
       " 'manner',\n",
       " 'told',\n",
       " 'their',\n",
       " 'own',\n",
       " 'story',\n",
       " 'he',\n",
       " 'was',\n",
       " 'at',\n",
       " 'work',\n",
       " 'again',\n",
       " 'he',\n",
       " 'had',\n",
       " 'risen',\n",
       " 'out',\n",
       " 'of',\n",
       " 'his',\n",
       " 'drug',\n",
       " 'created',\n",
       " 'dreams',\n",
       " 'and',\n",
       " 'was',\n",
       " 'hot',\n",
       " 'upon',\n",
       " 'the',\n",
       " 'scent',\n",
       " 'of',\n",
       " 'some',\n",
       " 'new',\n",
       " 'problem',\n",
       " 'i',\n",
       " 'rang',\n",
       " 'the',\n",
       " 'bell',\n",
       " 'and',\n",
       " 'was',\n",
       " 'shown',\n",
       " 'up',\n",
       " 'to',\n",
       " 'the',\n",
       " 'chamber',\n",
       " 'which',\n",
       " 'had',\n",
       " 'formerly',\n",
       " 'been',\n",
       " 'in',\n",
       " 'part',\n",
       " 'my',\n",
       " 'own',\n",
       " 'his',\n",
       " 'manner',\n",
       " 'was',\n",
       " 'not',\n",
       " 'effusive',\n",
       " 'it',\n",
       " 'seldom',\n",
       " 'was',\n",
       " 'but',\n",
       " 'he',\n",
       " 'was',\n",
       " 'glad',\n",
       " 'i',\n",
       " 'think',\n",
       " 'to',\n",
       " 'see',\n",
       " 'me',\n",
       " 'with',\n",
       " 'hardly',\n",
       " 'a',\n",
       " 'word',\n",
       " 'spoken',\n",
       " 'but',\n",
       " 'with',\n",
       " 'a',\n",
       " 'kindly',\n",
       " 'eye',\n",
       " 'he',\n",
       " 'waved',\n",
       " 'me',\n",
       " 'to',\n",
       " 'an',\n",
       " 'armchair',\n",
       " 'threw',\n",
       " 'across',\n",
       " 'his',\n",
       " 'case',\n",
       " 'of',\n",
       " 'cigars',\n",
       " 'and',\n",
       " 'indicated',\n",
       " 'a',\n",
       " 'spirit',\n",
       " 'case',\n",
       " 'and',\n",
       " 'a',\n",
       " 'gasogene',\n",
       " 'in',\n",
       " 'the',\n",
       " 'corner',\n",
       " 'then',\n",
       " 'he',\n",
       " 'stood',\n",
       " 'before',\n",
       " 'the',\n",
       " 'fire',\n",
       " 'and',\n",
       " 'looked',\n",
       " 'me',\n",
       " 'over',\n",
       " 'in',\n",
       " 'his',\n",
       " 'singular',\n",
       " 'introspective',\n",
       " 'fashion',\n",
       " 'wedlock',\n",
       " 'suits',\n",
       " 'you',\n",
       " 'he',\n",
       " 'remarked',\n",
       " 'i',\n",
       " 'think',\n",
       " 'watson',\n",
       " 'that',\n",
       " 'you',\n",
       " 'have',\n",
       " 'put',\n",
       " 'on',\n",
       " 'seven',\n",
       " 'and',\n",
       " 'a',\n",
       " 'half',\n",
       " 'pounds',\n",
       " 'since',\n",
       " 'i',\n",
       " 'saw',\n",
       " 'you',\n",
       " 'seven',\n",
       " 'i',\n",
       " 'answered',\n",
       " 'indeed',\n",
       " 'i',\n",
       " 'should',\n",
       " 'have',\n",
       " 'thought',\n",
       " 'a',\n",
       " 'little',\n",
       " 'more',\n",
       " 'just',\n",
       " 'a',\n",
       " 'trifle',\n",
       " 'more',\n",
       " 'i',\n",
       " 'fancy',\n",
       " 'watson',\n",
       " 'and',\n",
       " 'in',\n",
       " 'practice',\n",
       " 'again',\n",
       " 'i',\n",
       " 'observe',\n",
       " 'you',\n",
       " 'did',\n",
       " 'not',\n",
       " 'tell',\n",
       " 'me',\n",
       " 'that',\n",
       " 'you',\n",
       " 'intended',\n",
       " 'to',\n",
       " 'go',\n",
       " 'into',\n",
       " 'harness',\n",
       " 'then',\n",
       " 'how',\n",
       " 'do',\n",
       " 'you',\n",
       " 'know',\n",
       " 'i',\n",
       " 'see',\n",
       " 'it',\n",
       " 'i',\n",
       " 'deduce',\n",
       " 'it',\n",
       " 'how',\n",
       " 'do',\n",
       " 'i',\n",
       " 'know',\n",
       " 'that',\n",
       " 'you',\n",
       " 'have',\n",
       " 'been',\n",
       " 'getting',\n",
       " 'yourself',\n",
       " 'very',\n",
       " 'wet',\n",
       " 'lately',\n",
       " 'and',\n",
       " 'that',\n",
       " 'you',\n",
       " 'have',\n",
       " 'a',\n",
       " 'most',\n",
       " 'clumsy',\n",
       " 'and',\n",
       " 'careless',\n",
       " 'servant',\n",
       " 'girl',\n",
       " 'my',\n",
       " 'dear',\n",
       " 'holmes',\n",
       " 'said',\n",
       " 'i',\n",
       " 'this',\n",
       " 'is',\n",
       " 'too',\n",
       " 'much',\n",
       " 'you',\n",
       " 'would',\n",
       " 'certainly',\n",
       " 'have',\n",
       " 'been',\n",
       " 'burned',\n",
       " 'had',\n",
       " 'you',\n",
       " 'lived',\n",
       " 'a',\n",
       " ...]"
      ]
     },
     "execution_count": 6,
     "metadata": {},
     "output_type": "execute_result"
    }
   ],
   "source": [
    "words"
   ]
  },
  {
   "cell_type": "code",
   "execution_count": null,
   "metadata": {
    "id": "Y0doTDxSEMUs"
   },
   "outputs": [],
   "source": [
    "unique_words = np.unique(words)\n",
    "unique_word_index = dict((c, i) for i, c in enumerate(unique_words))"
   ]
  },
  {
   "cell_type": "code",
   "execution_count": null,
   "metadata": {
    "colab": {
     "base_uri": "https://localhost:8080/"
    },
    "id": "SCJQwzVVX5eK",
    "outputId": "c1336cad-14d7-40c4-e393-81ce9545e81b"
   },
   "outputs": [
    {
     "data": {
      "text/plain": [
       "1865"
      ]
     },
     "execution_count": 8,
     "metadata": {},
     "output_type": "execute_result"
    }
   ],
   "source": [
    "unique_word_index['good']"
   ]
  },
  {
   "cell_type": "code",
   "execution_count": null,
   "metadata": {
    "colab": {
     "base_uri": "https://localhost:8080/"
    },
    "id": "yuo4UOSsEYP8",
    "outputId": "3e83f2b3-9e96-445a-974b-3bdd20f77d61"
   },
   "outputs": [
    {
     "name": "stdout",
     "output_type": "stream",
     "text": [
      "['project', 'gutenberg', 's', 'the']\n",
      "adventures\n"
     ]
    }
   ],
   "source": [
    "WORD_LENGTH = 4\n",
    "prev_words = []\n",
    "next_words = []\n",
    "for i in range(len(words) - WORD_LENGTH):\n",
    "    prev_words.append(words[i:i + WORD_LENGTH])\n",
    "    next_words.append(words[i + WORD_LENGTH])\n",
    "print(prev_words[0])\n",
    "print(next_words[0])"
   ]
  },
  {
   "cell_type": "code",
   "execution_count": null,
   "metadata": {
    "id": "B11Q2eS5FElt"
   },
   "outputs": [],
   "source": [
    "X = np.zeros((len(prev_words), WORD_LENGTH, len(unique_words)), dtype=bool)\n",
    "Y = np.zeros((len(next_words), len(unique_words)), dtype=bool)\n",
    "for i, each_words in enumerate(prev_words):\n",
    "    for j, each_word in enumerate(each_words):\n",
    "        X[i, j, unique_word_index[each_word]] = 1\n",
    "    Y[i, unique_word_index[next_words[i]]] = 1"
   ]
  },
  {
   "cell_type": "code",
   "execution_count": null,
   "metadata": {
    "colab": {
     "base_uri": "https://localhost:8080/"
    },
    "id": "ErTxEiEaFom9",
    "outputId": "ee2bbf5d-b7da-4bfe-fd22-f206b3af8858"
   },
   "outputs": [
    {
     "data": {
      "text/plain": [
       "3511"
      ]
     },
     "execution_count": 11,
     "metadata": {},
     "output_type": "execute_result"
    }
   ],
   "source": [
    "unique_word_index['s']"
   ]
  },
  {
   "cell_type": "code",
   "execution_count": null,
   "metadata": {
    "id": "gQ2rPRkHGrlQ"
   },
   "outputs": [],
   "source": [
    "model = Sequential()\n",
    "model.add(LSTM(128, input_shape=(WORD_LENGTH, len(unique_words))))\n",
    "model.add(Dense(len(unique_words)))\n",
    "model.add(Activation('softmax'))"
   ]
  },
  {
   "cell_type": "code",
   "execution_count": null,
   "metadata": {
    "colab": {
     "base_uri": "https://localhost:8080/"
    },
    "id": "mUbcOz1DQ2Lb",
    "outputId": "de435360-a283-4981-d52f-e55f85b8a105"
   },
   "outputs": [
    {
     "name": "stderr",
     "output_type": "stream",
     "text": [
      "/usr/local/lib/python3.7/dist-packages/keras/optimizer_v2/rmsprop.py:130: UserWarning: The `lr` argument is deprecated, use `learning_rate` instead.\n",
      "  super(RMSprop, self).__init__(name, **kwargs)\n"
     ]
    },
    {
     "name": "stdout",
     "output_type": "stream",
     "text": [
      "Epoch 1/20\n",
      "283/283 [==============================] - 10s 19ms/step - loss: 6.2142 - accuracy: 0.0822 - val_loss: 6.0928 - val_accuracy: 0.1162\n",
      "Epoch 2/20\n",
      "283/283 [==============================] - 5s 17ms/step - loss: 5.5481 - accuracy: 0.1300 - val_loss: 5.9926 - val_accuracy: 0.1257\n",
      "Epoch 3/20\n",
      "283/283 [==============================] - 5s 17ms/step - loss: 5.2048 - accuracy: 0.1647 - val_loss: 6.1483 - val_accuracy: 0.1162\n",
      "Epoch 4/20\n",
      "283/283 [==============================] - 5s 17ms/step - loss: 4.9378 - accuracy: 0.2133 - val_loss: 6.4875 - val_accuracy: 0.1230\n",
      "Epoch 5/20\n",
      "283/283 [==============================] - 5s 17ms/step - loss: 4.6582 - accuracy: 0.2723 - val_loss: 6.6784 - val_accuracy: 0.1088\n",
      "Epoch 6/20\n",
      "283/283 [==============================] - 5s 17ms/step - loss: 4.3450 - accuracy: 0.3417 - val_loss: 7.0494 - val_accuracy: 0.0994\n",
      "Epoch 7/20\n",
      "283/283 [==============================] - 5s 17ms/step - loss: 4.0305 - accuracy: 0.4061 - val_loss: 7.1081 - val_accuracy: 0.1036\n",
      "Epoch 8/20\n",
      "283/283 [==============================] - 5s 17ms/step - loss: 3.7335 - accuracy: 0.4648 - val_loss: 7.2017 - val_accuracy: 0.0878\n",
      "Epoch 9/20\n",
      "283/283 [==============================] - 5s 17ms/step - loss: 3.4784 - accuracy: 0.5146 - val_loss: 7.3570 - val_accuracy: 0.0873\n",
      "Epoch 10/20\n",
      "283/283 [==============================] - 5s 17ms/step - loss: 3.2529 - accuracy: 0.5569 - val_loss: 7.5384 - val_accuracy: 0.0899\n",
      "Epoch 11/20\n",
      "283/283 [==============================] - 5s 17ms/step - loss: 3.0657 - accuracy: 0.5922 - val_loss: 7.5975 - val_accuracy: 0.0794\n",
      "Epoch 12/20\n",
      "283/283 [==============================] - 5s 17ms/step - loss: 2.9395 - accuracy: 0.6195 - val_loss: 7.6336 - val_accuracy: 0.0836\n",
      "Epoch 13/20\n",
      "283/283 [==============================] - 5s 17ms/step - loss: 2.8284 - accuracy: 0.6387 - val_loss: 7.7772 - val_accuracy: 0.0757\n",
      "Epoch 14/20\n",
      "283/283 [==============================] - 5s 17ms/step - loss: 2.7312 - accuracy: 0.6579 - val_loss: 7.8140 - val_accuracy: 0.0726\n",
      "Epoch 15/20\n",
      "283/283 [==============================] - 5s 17ms/step - loss: 2.6711 - accuracy: 0.6722 - val_loss: 7.9338 - val_accuracy: 0.0731\n",
      "Epoch 16/20\n",
      "283/283 [==============================] - 5s 17ms/step - loss: 2.6108 - accuracy: 0.6847 - val_loss: 8.0124 - val_accuracy: 0.0705\n",
      "Epoch 17/20\n",
      "283/283 [==============================] - 5s 17ms/step - loss: 2.5710 - accuracy: 0.6931 - val_loss: 7.9745 - val_accuracy: 0.0636\n",
      "Epoch 18/20\n",
      "283/283 [==============================] - 5s 17ms/step - loss: 2.5307 - accuracy: 0.7009 - val_loss: 7.9577 - val_accuracy: 0.0689\n",
      "Epoch 19/20\n",
      "283/283 [==============================] - 5s 17ms/step - loss: 2.4909 - accuracy: 0.7121 - val_loss: 7.9663 - val_accuracy: 0.0668\n",
      "Epoch 20/20\n",
      "283/283 [==============================] - 5s 17ms/step - loss: 2.4644 - accuracy: 0.7158 - val_loss: 8.0100 - val_accuracy: 0.0631\n"
     ]
    }
   ],
   "source": [
    "optimizer = RMSprop(lr=0.01)\n",
    "model.compile(loss='categorical_crossentropy', optimizer=optimizer, metrics=['accuracy'])\n",
    "history = model.fit(X, Y, validation_split=0.05, batch_size=128, epochs=20, shuffle=True).history"
   ]
  },
  {
   "cell_type": "code",
   "execution_count": null,
   "metadata": {
    "id": "moTOcpF0Q8gv"
   },
   "outputs": [],
   "source": [
    "model.save('keras_next_word_model.h5')\n",
    "pickle.dump(history, open(\"history.p\", \"wb\"))\n",
    "model = load_model('keras_next_word_model.h5')\n",
    "history = pickle.load(open(\"history.p\", \"rb\"))"
   ]
  },
  {
   "cell_type": "code",
   "execution_count": null,
   "metadata": {
    "id": "cYapcspdT2ef"
   },
   "outputs": [],
   "source": [
    "def prepare_input(text):\n",
    "    x = np.zeros((1, WORD_LENGTH, len(unique_words)))\n",
    "    for t, word in enumerate(text.split()):\n",
    "        print(word)\n",
    "        x[0, t, unique_word_index[word]] = 1\n",
    "    return x"
   ]
  },
  {
   "cell_type": "code",
   "execution_count": null,
   "metadata": {
    "colab": {
     "base_uri": "https://localhost:8080/"
    },
    "id": "2TUyFdFxW71B",
    "outputId": "ff518bc5-ab61-48e3-fd11-36690ccaf2a2"
   },
   "outputs": [
    {
     "name": "stdout",
     "output_type": "stream",
     "text": [
      "it\n",
      "is\n",
      "not\n",
      "a\n"
     ]
    },
    {
     "data": {
      "text/plain": [
       "array([[[0., 0., 0., ..., 0., 0., 0.],\n",
       "        [0., 0., 0., ..., 0., 0., 0.],\n",
       "        [0., 0., 0., ..., 0., 0., 0.],\n",
       "        [0., 0., 0., ..., 0., 0., 0.]]])"
      ]
     },
     "execution_count": 16,
     "metadata": {},
     "output_type": "execute_result"
    }
   ],
   "source": [
    "prepare_input(\"It is not a\".lower()) "
   ]
  },
  {
   "cell_type": "code",
   "execution_count": null,
   "metadata": {
    "id": "gjLNUT_lXtuC"
   },
   "outputs": [],
   "source": [
    "def sample(preds, top_n=3):\n",
    "    preds = np.asarray(preds).astype('float64')\n",
    "    preds = np.log(preds)\n",
    "    exp_preds = np.exp(preds)\n",
    "    preds = exp_preds / np.sum(exp_preds)\n",
    "\n",
    "    return heapq.nlargest(top_n, range(len(preds)), preds.take)"
   ]
  },
  {
   "cell_type": "code",
   "execution_count": null,
   "metadata": {
    "id": "m-23z1o8ZzPs"
   },
   "outputs": [],
   "source": [
    "\n",
    "def predict_completion(text):\n",
    "    original_text = text\n",
    "    generated = text\n",
    "    completion = ''\n",
    "    while True:\n",
    "        x = prepare_input(text)\n",
    "        preds = model.predict(x, verbose=0)[0]\n",
    "        next_index = sample(preds, top_n=1)[0]\n",
    "        next_char = unique_word_index[next_index]\n",
    "        text = text[1:] + next_char\n",
    "        completion += next_char\n",
    "        \n",
    "        if len(original_text + completion) + 2 > len(original_text) and next_char == ' ':\n",
    "            return completion"
   ]
  },
  {
   "cell_type": "code",
   "execution_count": null,
   "metadata": {
    "id": "rzyzoIVtZ4t7"
   },
   "outputs": [],
   "source": [
    "def predict_completions(text, n=3):\n",
    "    x = prepare_input(text)\n",
    "    preds = model.predict(x, verbose=0)[0]\n",
    "    next_indices = sample(preds, n)\n",
    "    return [unique_word_index[idx] + predict_completion(text[1:] + unique_word_index[idx]) for idx in next_indices]"
   ]
  },
  {
   "cell_type": "code",
   "execution_count": null,
   "metadata": {
    "id": "q8Vh4QwAZ9ZD"
   },
   "outputs": [],
   "source": [
    "# predict_completion(\"which does not\")"
   ]
  },
  {
   "cell_type": "code",
   "execution_count": null,
   "metadata": {
    "id": "xRY246XoaiBf"
   },
   "outputs": [],
   "source": [
    "quotes = [\n",
    "    \"It is hard enough\"\n",
    "]"
   ]
  },
  {
   "cell_type": "markdown",
   "metadata": {
    "id": "qFyIwBviSQ3j"
   },
   "source": [
    "# Referensi Baru"
   ]
  },
  {
   "cell_type": "code",
   "execution_count": null,
   "metadata": {
    "colab": {
     "base_uri": "https://localhost:8080/"
    },
    "id": "zNgfBqSsECap",
    "outputId": "9b68f8ae-3e44-4674-f515-9e1a41f034cb"
   },
   "outputs": [
    {
     "name": "stdout",
     "output_type": "stream",
     "text": [
      "Mounted at /content/drive\n"
     ]
    }
   ],
   "source": [
    "from google.colab import drive\n",
    "drive.mount('/content/drive')"
   ]
  },
  {
   "cell_type": "markdown",
   "metadata": {
    "id": "IYCnteHv8o3_"
   },
   "source": [
    "Import library yang diperlukan"
   ]
  },
  {
   "cell_type": "code",
   "execution_count": null,
   "metadata": {
    "id": "f5dIuA7xSO_1"
   },
   "outputs": [],
   "source": [
    "import pandas as pd\n",
    "import os\n",
    "import numpy as np\n",
    "import matplotlib.pyplot as plt\n",
    "import seaborn as sns\n",
    "\n",
    "import tensorflow as tf\n",
    "from tensorflow.keras.preprocessing.sequence import pad_sequences\n",
    "from tensorflow.keras.layers import Embedding, LSTM, Dense, Bidirectional, Dropout\n",
    "from tensorflow.keras.preprocessing.text import Tokenizer\n",
    "from tensorflow.keras.models import Sequential\n",
    "from tensorflow.keras.optimizers import Adam\n",
    "from tensorflow.keras.utils import to_categorical\n",
    "from keras import backend as K"
   ]
  },
  {
   "cell_type": "code",
   "execution_count": null,
   "metadata": {
    "id": "vTKw7BdnFVht"
   },
   "outputs": [],
   "source": [
    "pd.set_option('display.max_colwidth', 0)"
   ]
  },
  {
   "cell_type": "markdown",
   "metadata": {
    "id": "xqCQH9ak8nfj"
   },
   "source": [
    "Load dataset"
   ]
  },
  {
   "cell_type": "code",
   "execution_count": null,
   "metadata": {
    "id": "e0LgDFwBEWb5"
   },
   "outputs": [],
   "source": [
    "!cp -R \"/content/drive/Shareddrives/NLP/Dataset\" ."
   ]
  },
  {
   "cell_type": "code",
   "execution_count": null,
   "metadata": {
    "colab": {
     "base_uri": "https://localhost:8080/"
    },
    "id": "SLs43rxfvAka",
    "outputId": "7a2b82c0-51f8-4661-f1c3-96f036fa3e52"
   },
   "outputs": [
    {
     "name": "stdout",
     "output_type": "stream",
     "text": [
      "--2021-12-02 10:42:31--  https://object.pouta.csc.fi/OPUS-OpenSubtitles/v2018/mono/id.txt.gz\n",
      "Resolving object.pouta.csc.fi (object.pouta.csc.fi)... 86.50.254.18, 86.50.254.19\n",
      "Connecting to object.pouta.csc.fi (object.pouta.csc.fi)|86.50.254.18|:443... connected.\n",
      "HTTP request sent, awaiting response... 200 OK\n",
      "Length: 227979172 (217M) [application/gzip]\n",
      "Saving to: ‘id.txt.gz.1’\n",
      "\n",
      "id.txt.gz.1         100%[===================>] 217.42M  63.7MB/s    in 3.7s    \n",
      "\n",
      "2021-12-02 10:42:35 (58.1 MB/s) - ‘id.txt.gz.1’ saved [227979172/227979172]\n",
      "\n"
     ]
    }
   ],
   "source": [
    "!wget https://object.pouta.csc.fi/OPUS-OpenSubtitles/v2018/mono/id.txt.gz\n",
    "!gzip -dk id.txt.gz"
   ]
  },
  {
   "cell_type": "code",
   "execution_count": null,
   "metadata": {
    "colab": {
     "base_uri": "https://localhost:8080/"
    },
    "id": "yQnBE-plYYdS",
    "outputId": "382fd031-9112-4870-b96b-6667ba9923a4"
   },
   "outputs": [
    {
     "name": "stdout",
     "output_type": "stream",
     "text": [
      "--2021-12-02 09:02:45--  https://pcai056.informatik.uni-leipzig.de/downloads/corpora/ind_wikipedia_2021_1M.tar.gz\n",
      "Resolving pcai056.informatik.uni-leipzig.de (pcai056.informatik.uni-leipzig.de)... 139.18.2.216\n",
      "Connecting to pcai056.informatik.uni-leipzig.de (pcai056.informatik.uni-leipzig.de)|139.18.2.216|:443... connected.\n",
      "HTTP request sent, awaiting response... 200 OK\n",
      "Length: 207297373 (198M) [application/x-gzip]\n",
      "Saving to: ‘ind_wikipedia_2021_1M.tar.gz’\n",
      "\n",
      "ind_wikipedia_2021_ 100%[===================>] 197.69M  24.4MB/s    in 8.8s    \n",
      "\n",
      "2021-12-02 09:02:54 (22.4 MB/s) - ‘ind_wikipedia_2021_1M.tar.gz’ saved [207297373/207297373]\n",
      "\n"
     ]
    }
   ],
   "source": [
    "# !wget https://pcai056.informatik.uni-leipzig.de/downloads/corpora/ind_wikipedia_2021_1M.tar.gz\n",
    "# !tar -xvf ind_wikipedia_2021_1M.tar.gz"
   ]
  },
  {
   "cell_type": "code",
   "execution_count": null,
   "metadata": {
    "id": "YiPbzMtHSTfE"
   },
   "outputs": [],
   "source": [
    "# medium_data = pd.read_csv('/content/drive/Shareddrives/NLP/medium_data.csv')\n",
    "# medium_data.head()"
   ]
  },
  {
   "cell_type": "code",
   "execution_count": null,
   "metadata": {
    "id": "q_RMkr78FE1v"
   },
   "outputs": [],
   "source": [
    "# df_corpora = pd.read_csv('Dataset/ind_wikipedia_2021_10K-sentences.txt', names = [\"id\", \"dokumen\"], sep='\\t')\n",
    "df_corpora_raw = pd.read_csv('id.txt', names = [\"dokumen\"], sep='\\t')"
   ]
  },
  {
   "cell_type": "code",
   "execution_count": null,
   "metadata": {
    "colab": {
     "base_uri": "https://localhost:8080/",
     "height": 424
    },
    "id": "odY_NFDcvrCu",
    "outputId": "af1a5767-84e8-40e1-f375-eb4f2d157c9f"
   },
   "outputs": [
    {
     "data": {
      "text/html": [
       "<div>\n",
       "<style scoped>\n",
       "    .dataframe tbody tr th:only-of-type {\n",
       "        vertical-align: middle;\n",
       "    }\n",
       "\n",
       "    .dataframe tbody tr th {\n",
       "        vertical-align: top;\n",
       "    }\n",
       "\n",
       "    .dataframe thead th {\n",
       "        text-align: right;\n",
       "    }\n",
       "</style>\n",
       "<table border=\"1\" class=\"dataframe\">\n",
       "  <thead>\n",
       "    <tr style=\"text-align: right;\">\n",
       "      <th></th>\n",
       "      <th>dokumen</th>\n",
       "    </tr>\n",
       "  </thead>\n",
       "  <tbody>\n",
       "    <tr>\n",
       "      <th>2487168</th>\n",
       "      <td>Aku akan jelaskan padamu caraku bekerja.</td>\n",
       "    </tr>\n",
       "    <tr>\n",
       "      <th>5754052</th>\n",
       "      <td>Semua, kita perlu penjaga untuk berpatroli di ...</td>\n",
       "    </tr>\n",
       "    <tr>\n",
       "      <th>18219565</th>\n",
       "      <td>Jika Red Sox lulus dengan pilihan pertama mere...</td>\n",
       "    </tr>\n",
       "    <tr>\n",
       "      <th>11826524</th>\n",
       "      <td>Ia tidak mau mendengarkan siapa pun.</td>\n",
       "    </tr>\n",
       "    <tr>\n",
       "      <th>18461762</th>\n",
       "      <td>Aku membuat kesepakatan untuk menyelamatkanmu ...</td>\n",
       "    </tr>\n",
       "    <tr>\n",
       "      <th>...</th>\n",
       "      <td>...</td>\n",
       "    </tr>\n",
       "    <tr>\n",
       "      <th>3985695</th>\n",
       "      <td>Seni mereka tidak pernah berlangsung.</td>\n",
       "    </tr>\n",
       "    <tr>\n",
       "      <th>14497089</th>\n",
       "      <td>Terlalu banyak orang, mereka semua akan tertawa!</td>\n",
       "    </tr>\n",
       "    <tr>\n",
       "      <th>12315425</th>\n",
       "      <td>Karena Hoon Dong bukanlah orang yang kompeten</td>\n",
       "    </tr>\n",
       "    <tr>\n",
       "      <th>632880</th>\n",
       "      <td>Saya mengenal/mengetahui anda mempunyai itu di...</td>\n",
       "    </tr>\n",
       "    <tr>\n",
       "      <th>1529829</th>\n",
       "      <td>kami akan mencari dalang ini semua.</td>\n",
       "    </tr>\n",
       "  </tbody>\n",
       "</table>\n",
       "<p>12000 rows × 1 columns</p>\n",
       "</div>"
      ],
      "text/plain": [
       "                                                    dokumen\n",
       "2487168            Aku akan jelaskan padamu caraku bekerja.\n",
       "5754052   Semua, kita perlu penjaga untuk berpatroli di ...\n",
       "18219565  Jika Red Sox lulus dengan pilihan pertama mere...\n",
       "11826524               Ia tidak mau mendengarkan siapa pun.\n",
       "18461762  Aku membuat kesepakatan untuk menyelamatkanmu ...\n",
       "...                                                     ...\n",
       "3985695               Seni mereka tidak pernah berlangsung.\n",
       "14497089   Terlalu banyak orang, mereka semua akan tertawa!\n",
       "12315425      Karena Hoon Dong bukanlah orang yang kompeten\n",
       "632880    Saya mengenal/mengetahui anda mempunyai itu di...\n",
       "1529829                 kami akan mencari dalang ini semua.\n",
       "\n",
       "[12000 rows x 1 columns]"
      ]
     },
     "execution_count": 3,
     "metadata": {},
     "output_type": "execute_result"
    }
   ],
   "source": [
    "# df_corpora = df_corpora.sample(n = 20000)\n",
    "df_corpora = df_corpora_raw[((df_corpora_raw[\"dokumen\"].str.len() <= 220) & (df_corpora_raw[\"dokumen\"].str.len() >= 30))].sample(n = 12000)\n",
    "df_corpora"
   ]
  },
  {
   "cell_type": "code",
   "execution_count": null,
   "metadata": {
    "colab": {
     "base_uri": "https://localhost:8080/",
     "height": 424
    },
    "id": "mibS0u3wFWg7",
    "outputId": "1a67fb6f-471e-4c2e-9b01-0fe25b6b3a35"
   },
   "outputs": [
    {
     "data": {
      "text/html": [
       "<div>\n",
       "<style scoped>\n",
       "    .dataframe tbody tr th:only-of-type {\n",
       "        vertical-align: middle;\n",
       "    }\n",
       "\n",
       "    .dataframe tbody tr th {\n",
       "        vertical-align: top;\n",
       "    }\n",
       "\n",
       "    .dataframe thead th {\n",
       "        text-align: right;\n",
       "    }\n",
       "</style>\n",
       "<table border=\"1\" class=\"dataframe\">\n",
       "  <thead>\n",
       "    <tr style=\"text-align: right;\">\n",
       "      <th></th>\n",
       "      <th>dokumen</th>\n",
       "    </tr>\n",
       "  </thead>\n",
       "  <tbody>\n",
       "    <tr>\n",
       "      <th>2487168</th>\n",
       "      <td>Aku akan jelaskan padamu caraku bekerja.</td>\n",
       "    </tr>\n",
       "    <tr>\n",
       "      <th>5754052</th>\n",
       "      <td>Semua, kita perlu penjaga untuk berpatroli di perimeter.</td>\n",
       "    </tr>\n",
       "    <tr>\n",
       "      <th>18219565</th>\n",
       "      <td>Jika Red Sox lulus dengan pilihan pertama mereka Aku tahu tahu Phillip benar-benar ingin membawanya.</td>\n",
       "    </tr>\n",
       "    <tr>\n",
       "      <th>11826524</th>\n",
       "      <td>Ia tidak mau mendengarkan siapa pun.</td>\n",
       "    </tr>\n",
       "    <tr>\n",
       "      <th>18461762</th>\n",
       "      <td>Aku membuat kesepakatan untuk menyelamatkanmu yg tak tahu berterima kasih untuk menyelamatkan lehermu barang sejenak.</td>\n",
       "    </tr>\n",
       "    <tr>\n",
       "      <th>...</th>\n",
       "      <td>...</td>\n",
       "    </tr>\n",
       "    <tr>\n",
       "      <th>3985695</th>\n",
       "      <td>Seni mereka tidak pernah berlangsung.</td>\n",
       "    </tr>\n",
       "    <tr>\n",
       "      <th>14497089</th>\n",
       "      <td>Terlalu banyak orang, mereka semua akan tertawa!</td>\n",
       "    </tr>\n",
       "    <tr>\n",
       "      <th>12315425</th>\n",
       "      <td>Karena Hoon Dong bukanlah orang yang kompeten</td>\n",
       "    </tr>\n",
       "    <tr>\n",
       "      <th>632880</th>\n",
       "      <td>Saya mengenal/mengetahui anda mempunyai itu di/dalam anda.</td>\n",
       "    </tr>\n",
       "    <tr>\n",
       "      <th>1529829</th>\n",
       "      <td>kami akan mencari dalang ini semua.</td>\n",
       "    </tr>\n",
       "  </tbody>\n",
       "</table>\n",
       "<p>12000 rows × 1 columns</p>\n",
       "</div>"
      ],
      "text/plain": [
       "                                                                                                                        dokumen\n",
       "2487168   Aku akan jelaskan padamu caraku bekerja.                                                                             \n",
       "5754052   Semua, kita perlu penjaga untuk berpatroli di perimeter.                                                             \n",
       "18219565  Jika Red Sox lulus dengan pilihan pertama mereka Aku tahu tahu Phillip benar-benar ingin membawanya.                 \n",
       "11826524  Ia tidak mau mendengarkan siapa pun.                                                                                 \n",
       "18461762  Aku membuat kesepakatan untuk menyelamatkanmu yg tak tahu berterima kasih untuk menyelamatkan lehermu barang sejenak.\n",
       "...                                                                                                                         ...\n",
       "3985695   Seni mereka tidak pernah berlangsung.                                                                                \n",
       "14497089  Terlalu banyak orang, mereka semua akan tertawa!                                                                     \n",
       "12315425  Karena Hoon Dong bukanlah orang yang kompeten                                                                        \n",
       "632880    Saya mengenal/mengetahui anda mempunyai itu di/dalam anda.                                                           \n",
       "1529829   kami akan mencari dalang ini semua.                                                                                  \n",
       "\n",
       "[12000 rows x 1 columns]"
      ]
     },
     "execution_count": 56,
     "metadata": {},
     "output_type": "execute_result"
    }
   ],
   "source": [
    "df_corpora"
   ]
  },
  {
   "cell_type": "markdown",
   "metadata": {
    "id": "f_6gb3Bk8yE4"
   },
   "source": [
    "Tokenisasi Seluruh kata yang terdapat pada medium_data[\"title\"]"
   ]
  },
  {
   "cell_type": "code",
   "execution_count": null,
   "metadata": {
    "id": "Iha9u_8gS5OB"
   },
   "outputs": [],
   "source": [
    "tokenizer = Tokenizer(lower = True, oov_token='<oov>') # For those words which are not found in word_index\n",
    "tokenizer.fit_on_texts(df_corpora[\"dokumen\"])\n",
    "total_words = len(tokenizer.word_index) + 1"
   ]
  },
  {
   "cell_type": "code",
   "execution_count": null,
   "metadata": {
    "colab": {
     "base_uri": "https://localhost:8080/"
    },
    "id": "24Gt_lEAV5XF",
    "outputId": "9bf6a863-4b90-4129-e041-542c55d24bd9"
   },
   "outputs": [
    {
     "data": {
      "text/plain": [
       "12273"
      ]
     },
     "execution_count": 5,
     "metadata": {},
     "output_type": "execute_result"
    }
   ],
   "source": [
    "total_words"
   ]
  },
  {
   "cell_type": "code",
   "execution_count": null,
   "metadata": {
    "colab": {
     "base_uri": "https://localhost:8080/"
    },
    "id": "Oghpm1v7-58C",
    "outputId": "1b46ef3f-31f3-4580-f10b-45f6c143f64d"
   },
   "outputs": [
    {
     "data": {
      "text/plain": [
       "1"
      ]
     },
     "execution_count": 6,
     "metadata": {},
     "output_type": "execute_result"
    }
   ],
   "source": [
    "tokenizer.word_index[\"<oov>\"]"
   ]
  },
  {
   "cell_type": "code",
   "execution_count": null,
   "metadata": {
    "colab": {
     "base_uri": "https://localhost:8080/"
    },
    "id": "fIMSVXJDWDpi",
    "outputId": "20c5db74-aab4-4db5-f371-da69a08e05dc"
   },
   "outputs": [
    {
     "data": {
      "text/plain": [
       "{'<oov>': 1,\n",
       " 'aku': 2,\n",
       " 'yang': 3,\n",
       " 'kau': 4,\n",
       " 'dan': 5,\n",
       " 'ini': 6,\n",
       " 'tidak': 7,\n",
       " 'di': 8,\n",
       " 'akan': 9,\n",
       " 'itu': 10,\n",
       " 'dia': 11,\n",
       " 'kita': 12,\n",
       " 'untuk': 13,\n",
       " 'bisa': 14,\n",
       " 'apa': 15,\n",
       " 'tak': 16,\n",
       " 'dengan': 17,\n",
       " 'mereka': 18,\n",
       " 'ada': 19,\n",
       " 'dari': 20,\n",
       " 'anda': 21,\n",
       " 'orang': 22,\n",
       " 'tahu': 23,\n",
       " 'saya': 24,\n",
       " 'tapi': 25,\n",
       " 'kami': 26,\n",
       " 'ke': 27,\n",
       " 'jika': 28,\n",
       " 'harus': 29,\n",
       " 'adalah': 30,\n",
       " 'sudah': 31,\n",
       " 'dalam': 32,\n",
       " 'ingin': 33,\n",
       " 'seperti': 34,\n",
       " 'semua': 35,\n",
       " 'kamu': 36,\n",
       " 'jadi': 37,\n",
       " 'hanya': 38,\n",
       " 'lebih': 39,\n",
       " 'pada': 40,\n",
       " 'sekarang': 41,\n",
       " 'baik': 42,\n",
       " 'karena': 43,\n",
       " 'sini': 44,\n",
       " 'benar': 45,\n",
       " 'hal': 46,\n",
       " 'pergi': 47,\n",
       " 'kalian': 48,\n",
       " 'satu': 49,\n",
       " 'lagi': 50,\n",
       " 'mungkin': 51,\n",
       " 'pernah': 52,\n",
       " 'bagaimana': 53,\n",
       " 'punya': 54,\n",
       " 'saja': 55,\n",
       " 'saat': 56,\n",
       " 'melihat': 57,\n",
       " 'telah': 58,\n",
       " 'menjadi': 59,\n",
       " 'bukan': 60,\n",
       " 'bahwa': 61,\n",
       " 'hari': 62,\n",
       " 'sangat': 63,\n",
       " 'banyak': 64,\n",
       " 'tentang': 65,\n",
       " 'lakukan': 66,\n",
       " 'atau': 67,\n",
       " 'kalau': 68,\n",
       " 'jangan': 69,\n",
       " 'mau': 70,\n",
       " 'kembali': 71,\n",
       " 'sesuatu': 72,\n",
       " 'melakukan': 73,\n",
       " 'juga': 74,\n",
       " 'anak': 75,\n",
       " 'seorang': 76,\n",
       " 'apakah': 77,\n",
       " 'bilang': 78,\n",
       " 'datang': 79,\n",
       " 'membuat': 80,\n",
       " 'ya': 81,\n",
       " 'tempat': 82,\n",
       " 'terjadi': 83,\n",
       " 'masih': 84,\n",
       " 'begitu': 85,\n",
       " 'kenapa': 86,\n",
       " 'lain': 87,\n",
       " 'sendiri': 88,\n",
       " 'mati': 89,\n",
       " 'dapat': 90,\n",
       " 'malam': 91,\n",
       " 'tahun': 92,\n",
       " 'waktu': 93,\n",
       " 'sampai': 94,\n",
       " 'memiliki': 95,\n",
       " 'sama': 96,\n",
       " 'lalu': 97,\n",
       " 'setelah': 98,\n",
       " 'sedang': 99,\n",
       " 'beberapa': 100,\n",
       " 'mengatakan': 101,\n",
       " 'ketika': 102,\n",
       " 'siapa': 103,\n",
       " 'yg': 104,\n",
       " 'ia': 105,\n",
       " 'keluar': 106,\n",
       " 'sebuah': 107,\n",
       " 'baru': 108,\n",
       " 'sana': 109,\n",
       " 'selalu': 110,\n",
       " 'pertama': 111,\n",
       " 'besar': 112,\n",
       " 'hidup': 113,\n",
       " 'perlu': 114,\n",
       " 'mana': 115,\n",
       " 'pikir': 116,\n",
       " 'rumah': 117,\n",
       " 'salah': 118,\n",
       " 'membunuh': 119,\n",
       " 'lihat': 120,\n",
       " 'sebagai': 121,\n",
       " 'katakan': 122,\n",
       " 'padamu': 123,\n",
       " 'cara': 124,\n",
       " 'atas': 125,\n",
       " 'menemukan': 126,\n",
       " 'berada': 127,\n",
       " '♪': 128,\n",
       " 'mengapa': 129,\n",
       " 'dua': 130,\n",
       " 'setiap': 131,\n",
       " 'ku': 132,\n",
       " 'pasti': 133,\n",
       " 'sebelum': 134,\n",
       " 'seseorang': 135,\n",
       " 'mendapatkan': 136,\n",
       " 'semuanya': 137,\n",
       " 'mengambil': 138,\n",
       " 'pria': 139,\n",
       " 'sekali': 140,\n",
       " 'sedikit': 141,\n",
       " 'padaku': 142,\n",
       " 'lama': 143,\n",
       " 'takkan': 144,\n",
       " 'teman': 145,\n",
       " 'ayah': 146,\n",
       " 'kali': 147,\n",
       " 'belum': 148,\n",
       " 'bahkan': 149,\n",
       " 'makan': 150,\n",
       " 'bekerja': 151,\n",
       " 'tinggal': 152,\n",
       " 'oleh': 153,\n",
       " 'diri': 154,\n",
       " 'masalah': 155,\n",
       " 'dunia': 156,\n",
       " 'cukup': 157,\n",
       " 'tanpa': 158,\n",
       " 'jalan': 159,\n",
       " 'bagus': 160,\n",
       " 'disini': 161,\n",
       " 'bicara': 162,\n",
       " 'tetap': 163,\n",
       " 'masuk': 164,\n",
       " 'oh': 165,\n",
       " 'bertemu': 166,\n",
       " 'luar': 167,\n",
       " 'selama': 168,\n",
       " 'merasa': 169,\n",
       " 'uang': 170,\n",
       " 'dengar': 171,\n",
       " 'percaya': 172,\n",
       " 'mulai': 173,\n",
       " 'oke': 174,\n",
       " 'terlalu': 175,\n",
       " 'bersama': 176,\n",
       " 'mencoba': 177,\n",
       " 'berpikir': 178,\n",
       " 'wanita': 179,\n",
       " 'melakukannya': 180,\n",
       " 'apapun': 181,\n",
       " 'maaf': 182,\n",
       " 'para': 183,\n",
       " 'suka': 184,\n",
       " 'jam': 185,\n",
       " 'kasih': 186,\n",
       " 'ibu': 187,\n",
       " 'mencari': 188,\n",
       " 'kemudian': 189,\n",
       " 'berhenti': 190,\n",
       " 'buruk': 191,\n",
       " 'membawa': 192,\n",
       " 'baiklah': 193,\n",
       " 'sebenarnya': 194,\n",
       " 'kecil': 195,\n",
       " 'pun': 196,\n",
       " 'mu': 197,\n",
       " 'kan': 198,\n",
       " 'senang': 199,\n",
       " 'gadis': 200,\n",
       " 'butuh': 201,\n",
       " 'kepada': 202,\n",
       " 'the': 203,\n",
       " 'kurasa': 204,\n",
       " 'seharusnya': 205,\n",
       " 'berbicara': 206,\n",
       " 'dulu': 207,\n",
       " 'dirimu': 208,\n",
       " 'yakin': 209,\n",
       " 'manusia': 210,\n",
       " 'mengerti': 211,\n",
       " 'mari': 212,\n",
       " 'sepertinya': 213,\n",
       " 'membantu': 214,\n",
       " 'kata': 215,\n",
       " 'bawah': 216,\n",
       " 'terakhir': 217,\n",
       " 'mata': 218,\n",
       " 'cepat': 219,\n",
       " 'segera': 220,\n",
       " 'ingat': 221,\n",
       " 'keluarga': 222,\n",
       " 'pekerjaan': 223,\n",
       " 'seluruh': 224,\n",
       " 'rasa': 225,\n",
       " 'mobil': 226,\n",
       " 'terima': 227,\n",
       " 'tangan': 228,\n",
       " 'maksudku': 229,\n",
       " 'boleh': 230,\n",
       " 'memberikan': 231,\n",
       " 'nya': 232,\n",
       " 'padanya': 233,\n",
       " 'secara': 234,\n",
       " 'polisi': 235,\n",
       " 'selamat': 236,\n",
       " 'tetapi': 237,\n",
       " 'nama': 238,\n",
       " 'bagian': 239,\n",
       " 'menyelamatkan': 240,\n",
       " 'tolong': 241,\n",
       " 'kota': 242,\n",
       " 'pak': 243,\n",
       " 'tiba': 244,\n",
       " 'tua': 245,\n",
       " 'terus': 246,\n",
       " 'berdua': 247,\n",
       " 'mendapat': 248,\n",
       " 'tuan': 249,\n",
       " 'pulang': 250,\n",
       " 'suatu': 251,\n",
       " 'mendengar': 252,\n",
       " 'tidur': 253,\n",
       " 'si': 254,\n",
       " 'hati': 255,\n",
       " 'buat': 256,\n",
       " 'peduli': 257,\n",
       " 'bisakah': 258,\n",
       " 'masa': 259,\n",
       " 'agar': 260,\n",
       " 'sebelumnya': 261,\n",
       " 'penting': 262,\n",
       " 'kepala': 263,\n",
       " 'cuma': 264,\n",
       " 'bulan': 265,\n",
       " 'terlihat': 266,\n",
       " 'jauh': 267,\n",
       " 'denganmu': 268,\n",
       " 'tepat': 269,\n",
       " 'akhirnya': 270,\n",
       " 'maka': 271,\n",
       " 'biarkan': 272,\n",
       " 'berarti': 273,\n",
       " 'daripada': 274,\n",
       " 'memang': 275,\n",
       " 'itulah': 276,\n",
       " 'untukmu': 277,\n",
       " '10': 278,\n",
       " 'depan': 279,\n",
       " 'aneh': 280,\n",
       " 'tadi': 281,\n",
       " 'besok': 282,\n",
       " 'meninggalkan': 283,\n",
       " 'hei': 284,\n",
       " 'menggunakan': 285,\n",
       " 'berapa': 286,\n",
       " 'takut': 287,\n",
       " 'siap': 288,\n",
       " 'kemari': 289,\n",
       " 'dilakukan': 290,\n",
       " 'sejak': 291,\n",
       " 'memberi': 292,\n",
       " 'kehilangan': 293,\n",
       " 'tim': 294,\n",
       " 'senjata': 295,\n",
       " 'biasa': 296,\n",
       " 'tuhan': 297,\n",
       " 'cinta': 298,\n",
       " 'minta': 299,\n",
       " 'bertanya': 300,\n",
       " 'paling': 301,\n",
       " 'akhir': 302,\n",
       " 'berhasil': 303,\n",
       " 'ayahku': 304,\n",
       " 'satunya': 305,\n",
       " 'jelas': 306,\n",
       " 'bermain': 307,\n",
       " 'bodoh': 308,\n",
       " 'sakit': 309,\n",
       " 'menunggu': 310,\n",
       " 'bagi': 311,\n",
       " 'buku': 312,\n",
       " '2': 313,\n",
       " 'terbaik': 314,\n",
       " 'kesempatan': 315,\n",
       " 'tiga': 316,\n",
       " 'melawan': 317,\n",
       " 'ayo': 318,\n",
       " 'belajar': 319,\n",
       " 'kaki': 320,\n",
       " 'beritahu': 321,\n",
       " 'dimana': 322,\n",
       " 'alasan': 323,\n",
       " 'ch00ffff': 324,\n",
       " 'air': 325,\n",
       " 'antara': 326,\n",
       " 'kamar': 327,\n",
       " 'bawa': 328,\n",
       " 'kapal': 329,\n",
       " 'laki': 330,\n",
       " 'tinggi': 331,\n",
       " 'membutuhkan': 332,\n",
       " 'a': 333,\n",
       " 'menit': 334,\n",
       " 'pintu': 335,\n",
       " 'berubah': 336,\n",
       " 'sementara': 337,\n",
       " 'kupikir': 338,\n",
       " 'perjalanan': 339,\n",
       " 'sekolah': 340,\n",
       " 'pagi': 341,\n",
       " 'keras': 342,\n",
       " 'duduk': 343,\n",
       " 'i': 344,\n",
       " 'kerja': 345,\n",
       " 'sayang': 346,\n",
       " 'nanti': 347,\n",
       " 'berikan': 348,\n",
       " 'berjalan': 349,\n",
       " 'ambil': 350,\n",
       " 'suara': 351,\n",
       " 'memberitahu': 352,\n",
       " 'kekuatan': 353,\n",
       " 'kira': 354,\n",
       " 'perang': 355,\n",
       " 'benda': 356,\n",
       " 'kasus': 357,\n",
       " 'sungguh': 358,\n",
       " '3': 359,\n",
       " 'membiarkan': 360,\n",
       " 'kehidupan': 361,\n",
       " 'kuat': 362,\n",
       " 'sulit': 363,\n",
       " 'darah': 364,\n",
       " 'sendirian': 365,\n",
       " 'belakang': 366,\n",
       " 'aman': 367,\n",
       " 'bergerak': 368,\n",
       " '000': 369,\n",
       " 'kedua': 370,\n",
       " 'api': 371,\n",
       " 'melihatnya': 372,\n",
       " 'khawatir': 373,\n",
       " 'diriku': 374,\n",
       " 'bukankah': 375,\n",
       " 'penjara': 376,\n",
       " 'kematian': 377,\n",
       " 'melindungi': 378,\n",
       " 'pesawat': 379,\n",
       " 'dekat': 380,\n",
       " 'inginkan': 381,\n",
       " 'dapatkan': 382,\n",
       " 'negara': 383,\n",
       " 'berusaha': 384,\n",
       " 'mendengarkan': 385,\n",
       " 'soal': 386,\n",
       " 'membuatmu': 387,\n",
       " 'menerima': 388,\n",
       " 'berharap': 389,\n",
       " 'obat': 390,\n",
       " 'menunjukkan': 391,\n",
       " 'minggu': 392,\n",
       " 'berakhir': 393,\n",
       " 'ayahmu': 394,\n",
       " 'semacam': 395,\n",
       " 'menghentikan': 396,\n",
       " 'memakai': 397,\n",
       " 'mengikuti': 398,\n",
       " 'dokter': 399,\n",
       " 'meninggal': 400,\n",
       " 'memilih': 401,\n",
       " 'selesai': 402,\n",
       " 'bertahan': 403,\n",
       " 'tanda': 404,\n",
       " 'mudah': 405,\n",
       " 'berdiri': 406,\n",
       " 'hey': 407,\n",
       " 'membaca': 408,\n",
       " 'dirinya': 409,\n",
       " 'yah': 410,\n",
       " 'awak': 411,\n",
       " 'kulakukan': 412,\n",
       " 'coba': 413,\n",
       " 'denganku': 414,\n",
       " 'menarik': 415,\n",
       " 'indah': 416,\n",
       " 'lainnya': 417,\n",
       " 'barang': 418,\n",
       " 'menuju': 419,\n",
       " 'presiden': 420,\n",
       " 'menyenangkan': 421,\n",
       " 'demi': 422,\n",
       " 'bajingan': 423,\n",
       " 'mengetahui': 424,\n",
       " 'muncul': 425,\n",
       " 'dengannya': 426,\n",
       " 'hilang': 427,\n",
       " 'sebentar': 428,\n",
       " '1': 429,\n",
       " 'agen': 430,\n",
       " 'perusahaan': 431,\n",
       " 'diam': 432,\n",
       " 'nyata': 433,\n",
       " 'terbang': 434,\n",
       " '5': 435,\n",
       " 'melalui': 436,\n",
       " 'segala': 437,\n",
       " 'main': 438,\n",
       " 'mr': 439,\n",
       " 'tinggalkan': 440,\n",
       " 'siapapun': 441,\n",
       " 'kurang': 442,\n",
       " 'hebat': 443,\n",
       " 'amerika': 444,\n",
       " 'makanan': 445,\n",
       " 'berikutnya': 446,\n",
       " 'film': 447,\n",
       " 'pesta': 448,\n",
       " '20': 449,\n",
       " 'merasakan': 450,\n",
       " 'dariku': 451,\n",
       " 'naik': 452,\n",
       " 'tenang': 453,\n",
       " 'setidaknya': 454,\n",
       " 'melihatmu': 455,\n",
       " 'muda': 456,\n",
       " 'pertanyaan': 457,\n",
       " 'you': 458,\n",
       " 'sepanjang': 459,\n",
       " 'minum': 460,\n",
       " 'jahat': 461,\n",
       " 'makhluk': 462,\n",
       " 'sekitar': 463,\n",
       " 'membuatku': 464,\n",
       " 'hampir': 465,\n",
       " 'surat': 466,\n",
       " 'menurutmu': 467,\n",
       " 'pembunuhan': 468,\n",
       " 'sebabnya': 469,\n",
       " 'cerita': 470,\n",
       " 'berguna': 471,\n",
       " 'and': 472,\n",
       " 'kuda': 473,\n",
       " 'saling': 474,\n",
       " 'berbeda': 475,\n",
       " 'tunggu': 476,\n",
       " 'tentara': 477,\n",
       " 'merah': 478,\n",
       " 'berkata': 479,\n",
       " 'menurut': 480,\n",
       " 'berani': 481,\n",
       " 'uh': 482,\n",
       " 'cari': 483,\n",
       " 'rasanya': 484,\n",
       " 'ikut': 485,\n",
       " 'tentu': 486,\n",
       " 'langsung': 487,\n",
       " 'segalanya': 488,\n",
       " 'hidupku': 489,\n",
       " 'meminta': 490,\n",
       " 'dr': 491,\n",
       " 'foto': 492,\n",
       " 'memikirkan': 493,\n",
       " 'sebaiknya': 494,\n",
       " 'mengalami': 495,\n",
       " 'bicarakan': 496,\n",
       " 'gila': 497,\n",
       " 'bantuan': 498,\n",
       " 'kosong': 499,\n",
       " 'disebut': 500,\n",
       " 'menghancurkan': 501,\n",
       " 'penuh': 502,\n",
       " 'bila': 503,\n",
       " 'd': 504,\n",
       " 'menghubungi': 505,\n",
       " 'sialan': 506,\n",
       " 'penjaga': 507,\n",
       " 'menghabiskan': 508,\n",
       " 'cantik': 509,\n",
       " 'janji': 510,\n",
       " 'sering': 511,\n",
       " 'melewati': 512,\n",
       " 'semakin': 513,\n",
       " 'ruang': 514,\n",
       " 'temukan': 515,\n",
       " 'menang': 516,\n",
       " 'membeli': 517,\n",
       " 'pasukan': 518,\n",
       " 'pemerintah': 519,\n",
       " 'omong': 520,\n",
       " 'acara': 521,\n",
       " 'musim': 522,\n",
       " 'hukum': 523,\n",
       " 'kapten': 524,\n",
       " 'raja': 525,\n",
       " 'lari': 526,\n",
       " 'to': 527,\n",
       " 'permainan': 528,\n",
       " 'lupa': 529,\n",
       " 'rahasia': 530,\n",
       " 'matahari': 531,\n",
       " 'saatnya': 532,\n",
       " 'ibuku': 533,\n",
       " 'tanya': 534,\n",
       " 'kubilang': 535,\n",
       " 'jatuh': 536,\n",
       " 'rencana': 537,\n",
       " 'tanah': 538,\n",
       " 'nak': 539,\n",
       " 'b1': 540,\n",
       " 'ok': 541,\n",
       " 'betapa': 542,\n",
       " 'temanku': 543,\n",
       " '50': 544,\n",
       " 'pilihan': 545,\n",
       " 'menikah': 546,\n",
       " 'disana': 547,\n",
       " 'sejarah': 548,\n",
       " 'menjaga': 549,\n",
       " 'menembak': 550,\n",
       " 'tertarik': 551,\n",
       " 'khusus': 552,\n",
       " 'membuatnya': 553,\n",
       " 'marah': 554,\n",
       " 'mencintai': 555,\n",
       " 'hubungan': 556,\n",
       " 'membuka': 557,\n",
       " 'gunakan': 558,\n",
       " 'kemarin': 559,\n",
       " 'mengenai': 560,\n",
       " 'guru': 561,\n",
       " 'pikirkan': 562,\n",
       " 'bukanlah': 563,\n",
       " 'bintang': 564,\n",
       " 'mengirim': 565,\n",
       " 'bersalah': 566,\n",
       " 'kulihat': 567,\n",
       " 'kapan': 568,\n",
       " 'laut': 569,\n",
       " 'john': 570,\n",
       " 'mengubah': 571,\n",
       " 'kantor': 572,\n",
       " 'perasaan': 573,\n",
       " 'mampu': 574,\n",
       " 'gagal': 575,\n",
       " 'kunci': 576,\n",
       " 'kecuali': 577,\n",
       " 'harapan': 578,\n",
       " 'harusnya': 579,\n",
       " 'hingga': 580,\n",
       " 'ibumu': 581,\n",
       " 'tau': 582,\n",
       " 'korban': 583,\n",
       " 'mulia': 584,\n",
       " 'berita': 585,\n",
       " 'menulis': 586,\n",
       " 'beruntung': 587,\n",
       " 'nah': 588,\n",
       " 'anakmu': 589,\n",
       " 'nomor': 590,\n",
       " 'kelas': 591,\n",
       " 'fncandara': 592,\n",
       " '4ch000000': 593,\n",
       " 'utara': 594,\n",
       " 'tubuh': 595,\n",
       " 'kereta': 596,\n",
       " 'posisi': 597,\n",
       " 'mandi': 598,\n",
       " 'ayolah': 599,\n",
       " 'telepon': 600,\n",
       " 'pindah': 601,\n",
       " 'beri': 602,\n",
       " 'hitam': 603,\n",
       " 'berat': 604,\n",
       " 'putri': 605,\n",
       " 'toko': 606,\n",
       " 'hutan': 607,\n",
       " 'mengalahkan': 608,\n",
       " 'kukatakan': 609,\n",
       " 'setuju': 610,\n",
       " 'video': 611,\n",
       " 'kartu': 612,\n",
       " 'serius': 613,\n",
       " 'ulang': 614,\n",
       " 'menemukannya': 615,\n",
       " 'latihan': 616,\n",
       " 'menyerang': 617,\n",
       " 'utama': 618,\n",
       " 'anjing': 619,\n",
       " 'berbahaya': 620,\n",
       " 'bisnis': 621,\n",
       " 'sebagian': 622,\n",
       " 'bunuh': 623,\n",
       " 'pastikan': 624,\n",
       " 'inggris': 625,\n",
       " 'enam': 626,\n",
       " 'paman': 627,\n",
       " 'menyukai': 628,\n",
       " 'selamanya': 629,\n",
       " 'supaya': 630,\n",
       " 'kalinya': 631,\n",
       " 'new': 632,\n",
       " 'untukku': 633,\n",
       " 'udara': 634,\n",
       " '4': 635,\n",
       " 'tersebut': 636,\n",
       " 'macam': 637,\n",
       " 'putih': 638,\n",
       " 'yeah': 639,\n",
       " 'panjang': 640,\n",
       " 'panas': 641,\n",
       " 'menelepon': 642,\n",
       " 'selain': 643,\n",
       " 'pikiran': 644,\n",
       " 'kini': 645,\n",
       " 'bergabung': 646,\n",
       " 'kabur': 647,\n",
       " 'masing': 648,\n",
       " 'dewa': 649,\n",
       " 'selatan': 650,\n",
       " 'memberimu': 651,\n",
       " 'sehingga': 652,\n",
       " 'bebas': 653,\n",
       " 'menghilang': 654,\n",
       " 'well': 655,\n",
       " 'mengingat': 656,\n",
       " 'mencuri': 657,\n",
       " 'tujuan': 658,\n",
       " 'gedung': 659,\n",
       " \"'kan\": 660,\n",
       " 'es': 661,\n",
       " 'memberiku': 662,\n",
       " 'kukira': 663,\n",
       " 'memastikan': 664,\n",
       " 'namanya': 665,\n",
       " 'namun': 666,\n",
       " 'menyesal': 667,\n",
       " 'bahasa': 668,\n",
       " '4ah80': 669,\n",
       " 'mengurus': 670,\n",
       " 'milik': 671,\n",
       " 'lima': 672,\n",
       " 'waktunya': 673,\n",
       " 'cahaya': 674,\n",
       " 'tn': 675,\n",
       " 'pernikahan': 676,\n",
       " 'keadaan': 677,\n",
       " 'harap': 678,\n",
       " 'memahami': 679,\n",
       " 'wakil': 680,\n",
       " 'jendela': 681,\n",
       " 'pahlawan': 682,\n",
       " 'hak': 683,\n",
       " 'sempurna': 684,\n",
       " 'dimulai': 685,\n",
       " 'kesalahan': 686,\n",
       " 'mengerikan': 687,\n",
       " 'kecelakaan': 688,\n",
       " 'pembunuh': 689,\n",
       " 'kesini': 690,\n",
       " 'sadar': 691,\n",
       " 'kemampuan': 692,\n",
       " 'pribadi': 693,\n",
       " 'menyelesaikan': 694,\n",
       " 'menurutku': 695,\n",
       " 'saudara': 696,\n",
       " 'no': 697,\n",
       " 'batu': 698,\n",
       " 'jawab': 699,\n",
       " 'perhatian': 700,\n",
       " 'of': 701,\n",
       " 'berbohong': 702,\n",
       " 'agak': 703,\n",
       " 'juta': 704,\n",
       " 'kadang': 705,\n",
       " 'bumi': 706,\n",
       " 'mempunyai': 707,\n",
       " 'detik': 708,\n",
       " 'keamanan': 709,\n",
       " 'anggota': 710,\n",
       " '30': 711,\n",
       " 'kumohon': 712,\n",
       " 'kuharap': 713,\n",
       " 'ngomong': 714,\n",
       " 'lantai': 715,\n",
       " 'selanjutnya': 716,\n",
       " 'membicarakan': 717,\n",
       " 'kabar': 718,\n",
       " 'meskipun': 719,\n",
       " 'kakak': 720,\n",
       " 'terbuka': 721,\n",
       " 'pasangan': 722,\n",
       " 'tunjukkan': 723,\n",
       " 'emas': 724,\n",
       " 'untuknya': 725,\n",
       " 'alam': 726,\n",
       " 'bayi': 727,\n",
       " 'planet': 728,\n",
       " 'sisi': 729,\n",
       " 'mimpi': 730,\n",
       " 'pergilah': 731,\n",
       " 'mendapatkannya': 732,\n",
       " 'tampaknya': 733,\n",
       " 'misi': 734,\n",
       " 'lagu': 735,\n",
       " 'begini': 736,\n",
       " 'membunuhnya': 737,\n",
       " 'tengah': 738,\n",
       " 'uangnya': 739,\n",
       " 'gelap': 740,\n",
       " 'l': 741,\n",
       " 'hadiah': 742,\n",
       " 'ruangan': 743,\n",
       " 'bukti': 744,\n",
       " 'awal': 745,\n",
       " 'wajah': 746,\n",
       " 'setengah': 747,\n",
       " '00': 748,\n",
       " 'sisa': 749,\n",
       " 'membayangkan': 750,\n",
       " 'mesin': 751,\n",
       " 'kemana': 752,\n",
       " 'semoga': 753,\n",
       " 'kalah': 754,\n",
       " 'bagiku': 755,\n",
       " 'bayangkan': 756,\n",
       " 'membantumu': 757,\n",
       " 'maafkan': 758,\n",
       " 'suruh': 759,\n",
       " 'catatan': 760,\n",
       " 'perintah': 761,\n",
       " 'tampak': 762,\n",
       " 'mengatakannya': 763,\n",
       " 'terlambat': 764,\n",
       " 'anakku': 765,\n",
       " 'man': 766,\n",
       " 'lemah': 767,\n",
       " 'dasar': 768,\n",
       " 'kawan': 769,\n",
       " 'sesuai': 770,\n",
       " 'rusak': 771,\n",
       " 'serangan': 772,\n",
       " 'menemui': 773,\n",
       " 'bangun': 774,\n",
       " '12': 775,\n",
       " 'kepadaku': 776,\n",
       " 'menteri': 777,\n",
       " 'layak': 778,\n",
       " 'biar': 779,\n",
       " 'situasi': 780,\n",
       " 'tugas': 781,\n",
       " 'perempuan': 782,\n",
       " 'kebenaran': 783,\n",
       " 'terhadap': 784,\n",
       " 'pengacara': 785,\n",
       " 'keberatan': 786,\n",
       " 'meja': 787,\n",
       " 'balik': 788,\n",
       " 'terluka': 789,\n",
       " 'paham': 790,\n",
       " 'terjebak': 791,\n",
       " 'dinding': 792,\n",
       " 'menangis': 793,\n",
       " 'pistol': 794,\n",
       " 'dalamnya': 795,\n",
       " 'memulai': 796,\n",
       " 'bahaya': 797,\n",
       " 'mencintaimu': 798,\n",
       " 'gue': 799,\n",
       " 'burung': 800,\n",
       " 'bersamamu': 801,\n",
       " 'jejak': 802,\n",
       " 'pohon': 803,\n",
       " 'hanyalah': 804,\n",
       " 'menghadapi': 805,\n",
       " 'katanya': 806,\n",
       " 'berlatih': 807,\n",
       " 'tersisa': 808,\n",
       " 'entah': 809,\n",
       " 'garis': 810,\n",
       " 'musuh': 811,\n",
       " 'bahagia': 812,\n",
       " 'dikatakan': 813,\n",
       " 'kerajaan': 814,\n",
       " 'temanmu': 815,\n",
       " 'memberitahuku': 816,\n",
       " 'jaga': 817,\n",
       " 'sistem': 818,\n",
       " 'penyihir': 819,\n",
       " 'langit': 820,\n",
       " 'hidupnya': 821,\n",
       " 'siang': 822,\n",
       " 'prajurit': 823,\n",
       " 'hasil': 824,\n",
       " 'york': 825,\n",
       " 'buru': 826,\n",
       " 'berasal': 827,\n",
       " 'membayar': 828,\n",
       " 'kejadian': 829,\n",
       " 'artinya': 830,\n",
       " 'jack': 831,\n",
       " 'kesepakatan': 832,\n",
       " 'berterima': 833,\n",
       " 'empat': 834,\n",
       " 'langkah': 835,\n",
       " 'termasuk': 836,\n",
       " 'kudengar': 837,\n",
       " 'menyakiti': 838,\n",
       " 'lokasi': 839,\n",
       " 'tv': 840,\n",
       " 'sebelah': 841,\n",
       " 'david': 842,\n",
       " 's': 843,\n",
       " 'pesan': 844,\n",
       " 'kejahatan': 845,\n",
       " 'sibuk': 846,\n",
       " '6': 847,\n",
       " 'arah': 848,\n",
       " 'butuhkan': 849,\n",
       " 'menjual': 850,\n",
       " 'pakai': 851,\n",
       " 'istrimu': 852,\n",
       " 'kamera': 853,\n",
       " 'alat': 854,\n",
       " 'penyakit': 855,\n",
       " 'melarikan': 856,\n",
       " 'inilah': 857,\n",
       " 'dapatkah': 858,\n",
       " 'dibawa': 859,\n",
       " 'menangkap': 860,\n",
       " 'kemungkinan': 861,\n",
       " 'bom': 862,\n",
       " 'dengarkan': 863,\n",
       " 'kursi': 864,\n",
       " 'ketakutan': 865,\n",
       " 'sam': 866,\n",
       " 'menangani': 867,\n",
       " 'kepercayaan': 868,\n",
       " 'bahan': 869,\n",
       " 'keren': 870,\n",
       " 'bersumpah': 871,\n",
       " 'kaya': 872,\n",
       " 'bola': 873,\n",
       " 'bertanggung': 874,\n",
       " 'dingin': 875,\n",
       " 'cocok': 876,\n",
       " 'jenis': 877,\n",
       " 'berteriak': 878,\n",
       " 'ternyata': 879,\n",
       " 'musik': 880,\n",
       " 'penjahat': 881,\n",
       " 'keputusan': 882,\n",
       " 'pulau': 883,\n",
       " 'digunakan': 884,\n",
       " 'tumbuh': 885,\n",
       " 'menginginkan': 886,\n",
       " 'informasi': 887,\n",
       " 'seberapa': 888,\n",
       " 'menahan': 889,\n",
       " 'bantu': 890,\n",
       " 'terlibat': 891,\n",
       " 'daftar': 892,\n",
       " 'kim': 893,\n",
       " 'bersembunyi': 894,\n",
       " 'otak': 895,\n",
       " 'menyerah': 896,\n",
       " 'memeriksa': 897,\n",
       " 'baju': 898,\n",
       " 'kotor': 899,\n",
       " 'bertarung': 900,\n",
       " 'robot': 901,\n",
       " 'truk': 902,\n",
       " 'hidupmu': 903,\n",
       " 'by': 904,\n",
       " 'hotel': 905,\n",
       " 'rambut': 906,\n",
       " 'berhubungan': 907,\n",
       " 'nyaman': 908,\n",
       " 'seminggu': 909,\n",
       " 'sehat': 910,\n",
       " 'satelit': 911,\n",
       " 'asing': 912,\n",
       " 'daerah': 913,\n",
       " 'jujur': 914,\n",
       " 'sengaja': 915,\n",
       " 'dikenal': 916,\n",
       " 'hewan': 917,\n",
       " 'malah': 918,\n",
       " 'ide': 919,\n",
       " 'terkenal': 920,\n",
       " 'tingkat': 921,\n",
       " 'benci': 922,\n",
       " 'biru': 923,\n",
       " 'aturan': 924,\n",
       " 'perahu': 925,\n",
       " 'menjelaskan': 926,\n",
       " 'kegelapan': 927,\n",
       " 'pertemuan': 928,\n",
       " 'periksa': 929,\n",
       " 'ditemukan': 930,\n",
       " 'bukannya': 931,\n",
       " 'tindakan': 932,\n",
       " 'normal': 933,\n",
       " 'membangun': 934,\n",
       " 'sebut': 935,\n",
       " 'berjuang': 936,\n",
       " 'dibawah': 937,\n",
       " 'ahli': 938,\n",
       " 'jantung': 939,\n",
       " 'caranya': 940,\n",
       " '40': 941,\n",
       " '100': 942,\n",
       " 'gereja': 943,\n",
       " 'manis': 944,\n",
       " 'pihak': 945,\n",
       " 'anaknya': 946,\n",
       " 'perubahan': 947,\n",
       " 'menolak': 948,\n",
       " 'menolong': 949,\n",
       " 'mengejar': 950,\n",
       " 'roh': 951,\n",
       " 'perbatasan': 952,\n",
       " 'nenek': 953,\n",
       " 'diberikan': 954,\n",
       " '15': 955,\n",
       " 'sejauh': 956,\n",
       " 'pengadilan': 957,\n",
       " 'kehormatan': 958,\n",
       " 'mengatur': 959,\n",
       " 'london': 960,\n",
       " 'berlari': 961,\n",
       " 'tiket': 962,\n",
       " 'saksi': 963,\n",
       " 'my': 964,\n",
       " 'le': 965,\n",
       " 'membawanya': 966,\n",
       " 'biasanya': 967,\n",
       " 'membuang': 968,\n",
       " 'bernama': 969,\n",
       " 'melihatku': 970,\n",
       " 'menari': 971,\n",
       " 'listrik': 972,\n",
       " 'membuktikan': 973,\n",
       " 'eh': 974,\n",
       " 'menyimpan': 975,\n",
       " 'suami': 976,\n",
       " 'um': 977,\n",
       " 'beristirahat': 978,\n",
       " 'keluargamu': 979,\n",
       " 'tangga': 980,\n",
       " 'kesana': 981,\n",
       " 'helikopter': 982,\n",
       " 'persis': 983,\n",
       " 'panggilan': 984,\n",
       " 'angkasa': 985,\n",
       " 'kontak': 986,\n",
       " 'hai': 987,\n",
       " 'buka': 988,\n",
       " 'tembak': 989,\n",
       " 'gambar': 990,\n",
       " 'seorangpun': 991,\n",
       " 'tanganmu': 992,\n",
       " 'rekaman': 993,\n",
       " 'pertempuran': 994,\n",
       " 'bank': 995,\n",
       " 'menyembunyikan': 996,\n",
       " 'tewas': 997,\n",
       " 'mempertahankan': 998,\n",
       " 'pintar': 999,\n",
       " 'memberinya': 1000,\n",
       " ...}"
      ]
     },
     "execution_count": 7,
     "metadata": {},
     "output_type": "execute_result"
    }
   ],
   "source": [
    "tokenizer.word_index"
   ]
  },
  {
   "cell_type": "code",
   "execution_count": null,
   "metadata": {
    "id": "zS24l0bFWI8r"
   },
   "outputs": [],
   "source": [
    "input_sequences = []\n",
    "for line in df_corpora['dokumen']:\n",
    "    token_list = tokenizer.texts_to_sequences([line])[0]\n",
    "    # print(token_list)\n",
    "    # print(len(token_list))\n",
    "    for i in range(1, len(token_list)):\n",
    "        n_gram_sequence = token_list[:i+1]\n",
    "        input_sequences.append(n_gram_sequence)\n",
    "\n",
    "# print(input_sequences)\n",
    "# print(\"Total input sequences: \\n\", len(input_sequences))"
   ]
  },
  {
   "cell_type": "code",
   "execution_count": null,
   "metadata": {
    "id": "BuCx_P64XUqt"
   },
   "outputs": [],
   "source": [
    "# pad sequences \n",
    "max_sequence_len = max([len(x) for x in input_sequences])\n",
    "input_sequences = np.array(pad_sequences(input_sequences, maxlen=max_sequence_len, padding='pre'))\n",
    "# [print(input_sequences[i]) for i in input_sequences]"
   ]
  },
  {
   "cell_type": "code",
   "execution_count": null,
   "metadata": {
    "colab": {
     "base_uri": "https://localhost:8080/"
    },
    "id": "jsv6utgOxLEN",
    "outputId": "7e9c26e3-1b5d-4514-c6a5-a7ea5f68d56a"
   },
   "outputs": [
    {
     "data": {
      "text/plain": [
       "36"
      ]
     },
     "execution_count": 10,
     "metadata": {},
     "output_type": "execute_result"
    }
   ],
   "source": [
    "max_sequence_len #Sequence Terpanjang itu 38"
   ]
  },
  {
   "cell_type": "code",
   "execution_count": null,
   "metadata": {
    "colab": {
     "base_uri": "https://localhost:8080/"
    },
    "id": "-h-1hpB2xTIU",
    "outputId": "ba760c52-44a3-412a-d49a-90c5712c5666"
   },
   "outputs": [
    {
     "data": {
      "text/plain": [
       "array([[    0,     0,     0, ...,     0,     2,     9],\n",
       "       [    0,     0,     0, ...,     2,     9,  1459],\n",
       "       [    0,     0,     0, ...,     9,  1459,   123],\n",
       "       ...,\n",
       "       [    0,     0,     0, ...,     9,   188, 12272],\n",
       "       [    0,     0,     0, ...,   188, 12272,     6],\n",
       "       [    0,     0,     0, ..., 12272,     6,    35]], dtype=int32)"
      ]
     },
     "execution_count": 11,
     "metadata": {},
     "output_type": "execute_result"
    }
   ],
   "source": [
    "input_sequences #disamain panjang vektor tiap sequence"
   ]
  },
  {
   "cell_type": "code",
   "execution_count": null,
   "metadata": {
    "id": "akDc8m-WXcl9"
   },
   "outputs": [],
   "source": [
    "# create features and label\n",
    "xs, labels = input_sequences[:,:-1],input_sequences[:,-1]\n",
    "ys = to_categorical(labels, num_classes=total_words)"
   ]
  },
  {
   "cell_type": "code",
   "execution_count": null,
   "metadata": {
    "colab": {
     "base_uri": "https://localhost:8080/"
    },
    "id": "SKme-Sb1aWtr",
    "outputId": "416b66a7-c168-47d8-8a9a-3651fb0c4d86"
   },
   "outputs": [
    {
     "data": {
      "text/plain": [
       "array([0., 0., 0., ..., 0., 0., 0.], dtype=float32)"
      ]
     },
     "execution_count": 13,
     "metadata": {},
     "output_type": "execute_result"
    }
   ],
   "source": [
    "ys[5]"
   ]
  },
  {
   "cell_type": "code",
   "execution_count": null,
   "metadata": {
    "colab": {
     "base_uri": "https://localhost:8080/"
    },
    "id": "m6bp9HNta30l",
    "outputId": "f39d304c-392a-4b09-99a2-4bf07dc22515"
   },
   "outputs": [
    {
     "data": {
      "text/plain": [
       "array([[    0,     0,     0, ...,     0,     0,     2],\n",
       "       [    0,     0,     0, ...,     0,     2,     9],\n",
       "       [    0,     0,     0, ...,     2,     9,  1459],\n",
       "       ...,\n",
       "       [    0,     0,     0, ...,    26,     9,   188],\n",
       "       [    0,     0,     0, ...,     9,   188, 12272],\n",
       "       [    0,     0,     0, ...,   188, 12272,     6]], dtype=int32)"
      ]
     },
     "execution_count": 14,
     "metadata": {},
     "output_type": "execute_result"
    }
   ],
   "source": [
    "xs"
   ]
  },
  {
   "cell_type": "code",
   "execution_count": null,
   "metadata": {
    "colab": {
     "base_uri": "https://localhost:8080/"
    },
    "id": "getNoWVta8Qt",
    "outputId": "4c33bf41-85a1-4034-e183-b2965d7ce3a4"
   },
   "outputs": [
    {
     "data": {
      "text/plain": [
       "array([    9,  1459,   123, ..., 12272,     6,    35], dtype=int32)"
      ]
     },
     "execution_count": 15,
     "metadata": {},
     "output_type": "execute_result"
    }
   ],
   "source": [
    "labels"
   ]
  },
  {
   "cell_type": "code",
   "execution_count": null,
   "metadata": {
    "id": "Fmr4x1wOdBL5"
   },
   "outputs": [],
   "source": [
    "# optimizer = RMSprop(lr=0.01)\n",
    "# model.compile(loss='categorical_crossentropy', optimizer=optimizer, metrics=['accuracy'])\n",
    "# history = model.fit(X, Y, validation_split=0.05, batch_size=128, epochs=20, shuffle=True).history"
   ]
  },
  {
   "cell_type": "code",
   "execution_count": null,
   "metadata": {
    "id": "xVwih2gTe4vc"
   },
   "outputs": [],
   "source": [
    "# model = Sequential()\n",
    "# model.add(LSTM(128, input_shape=(WORD_LENGTH, len(unique_words))))\n",
    "# model.add(Dense(len(unique_words)))\n",
    "# model.add(Activation('softmax'))"
   ]
  },
  {
   "cell_type": "code",
   "execution_count": null,
   "metadata": {
    "colab": {
     "base_uri": "https://localhost:8080/"
    },
    "id": "DFdSAfv9dByH",
    "outputId": "95bb5f82-6689-4858-c69b-077027ac1ef3"
   },
   "outputs": [
    {
     "name": "stdout",
     "output_type": "stream",
     "text": [
      "Model: \"sequential\"\n",
      "_________________________________________________________________\n",
      " Layer (type)                Output Shape              Param #   \n",
      "=================================================================\n",
      " embedding (Embedding)       (None, 35, 10)            122730    \n",
      "                                                                 \n",
      " lstm (LSTM)                 (None, 128)               71168     \n",
      "                                                                 \n",
      " dropout (Dropout)           (None, 128)               0         \n",
      "                                                                 \n",
      " dense (Dense)               (None, 12273)             1583217   \n",
      "                                                                 \n",
      "=================================================================\n",
      "Total params: 1,777,115\n",
      "Trainable params: 1,777,115\n",
      "Non-trainable params: 0\n",
      "_________________________________________________________________\n"
     ]
    }
   ],
   "source": [
    "model = Sequential()\n",
    "model.add(Embedding(total_words, 10, input_length=max_sequence_len-1))\n",
    "model.add(LSTM(128))\n",
    "model.add(Dropout(0.1))\n",
    "model.add(Dense(total_words, activation='softmax'))\n",
    "model.summary()"
   ]
  },
  {
   "cell_type": "code",
   "execution_count": null,
   "metadata": {
    "id": "lnpygMzL1RJR"
   },
   "outputs": [],
   "source": [
    "def perplexity(y_true, y_pred):\n",
    "    cross_entropy = tf.losses.categorical_crossentropy(y_true, y_pred)\n",
    "    perplexity = tf.exp(tf.reduce_mean(cross_entropy))\n",
    "    return perplexity"
   ]
  },
  {
   "cell_type": "code",
   "execution_count": null,
   "metadata": {
    "id": "2QzzNW15LzFP"
   },
   "outputs": [],
   "source": [
    "optimizer = Adam(learning_rate=0.01)\n",
    "model.compile(loss='categorical_crossentropy', optimizer=optimizer, metrics=[perplexity])"
   ]
  },
  {
   "cell_type": "code",
   "execution_count": null,
   "metadata": {
    "colab": {
     "base_uri": "https://localhost:8080/"
    },
    "id": "1jhl3dsLxAGw",
    "outputId": "8c43ce8f-d9c6-40e3-9976-e5d77911f111"
   },
   "outputs": [
    {
     "name": "stdout",
     "output_type": "stream",
     "text": [
      "Epoch 1/48\n",
      "4811/4811 [==============================] - 75s 15ms/step - loss: 7.2413 - perplexity: 2033.1189 - val_loss: 7.0871 - val_perplexity: 2500.5237\n",
      "Epoch 2/48\n",
      "4811/4811 [==============================] - 70s 15ms/step - loss: 6.5890 - perplexity: 1026.1136 - val_loss: 7.1585 - val_perplexity: 4258.2417\n",
      "Epoch 3/48\n",
      "4811/4811 [==============================] - 71s 15ms/step - loss: 6.0933 - perplexity: 587.9243 - val_loss: 7.3104 - val_perplexity: 6883.6538\n",
      "Epoch 4/48\n",
      "4811/4811 [==============================] - 70s 15ms/step - loss: 5.6343 - perplexity: 355.6165 - val_loss: 7.6376 - val_perplexity: 15211.3105\n",
      "Epoch 5/48\n",
      "4811/4811 [==============================] - 70s 15ms/step - loss: 5.2223 - perplexity: 229.2652 - val_loss: 8.0777 - val_perplexity: 35246.2734\n",
      "Epoch 6/48\n",
      "4811/4811 [==============================] - 70s 15ms/step - loss: 4.8742 - perplexity: 158.9880 - val_loss: 8.4046 - val_perplexity: 63973.8047\n",
      "Epoch 7/48\n",
      "4811/4811 [==============================] - 70s 15ms/step - loss: 4.6061 - perplexity: 121.2091 - val_loss: 8.6675 - val_perplexity: 143569.3438\n",
      "Epoch 8/48\n",
      "4811/4811 [==============================] - 70s 15ms/step - loss: 4.3985 - perplexity: 98.4793 - val_loss: 9.0087 - val_perplexity: 283579.2812\n",
      "Epoch 9/48\n",
      "4811/4811 [==============================] - 70s 15ms/step - loss: 4.2429 - perplexity: 84.1782 - val_loss: 9.3940 - val_perplexity: 422545.9062\n",
      "Epoch 10/48\n",
      "4811/4811 [==============================] - 71s 15ms/step - loss: 4.1051 - perplexity: 73.5625 - val_loss: 9.5639 - val_perplexity: 967814.6875\n",
      "Epoch 11/48\n",
      "4811/4811 [==============================] - 70s 15ms/step - loss: 4.0081 - perplexity: 66.7052 - val_loss: 9.7987 - val_perplexity: 1896591.7500\n",
      "Epoch 12/48\n",
      "4811/4811 [==============================] - 70s 15ms/step - loss: 3.9201 - perplexity: 61.1836 - val_loss: 9.9611 - val_perplexity: 3204487.7500\n",
      "Epoch 13/48\n",
      "4811/4811 [==============================] - 70s 15ms/step - loss: 3.8464 - perplexity: 56.7137 - val_loss: 10.1428 - val_perplexity: 3157466.0000\n",
      "Epoch 14/48\n",
      "4811/4811 [==============================] - 70s 15ms/step - loss: 3.7912 - perplexity: 53.5326 - val_loss: 10.4380 - val_perplexity: 16730842.0000\n",
      "Epoch 15/48\n",
      "4811/4811 [==============================] - 70s 15ms/step - loss: 3.7302 - perplexity: 51.0856 - val_loss: 10.6043 - val_perplexity: 23372688.0000\n",
      "Epoch 16/48\n",
      "4811/4811 [==============================] - 70s 15ms/step - loss: 3.6835 - perplexity: 48.6618 - val_loss: 10.7502 - val_perplexity: 76716184.0000\n",
      "Epoch 17/48\n",
      "4811/4811 [==============================] - 70s 15ms/step - loss: 3.6573 - perplexity: 47.6493 - val_loss: 10.9133 - val_perplexity: 159870176.0000\n",
      "Epoch 18/48\n",
      "4811/4811 [==============================] - 70s 15ms/step - loss: 3.6186 - perplexity: 45.3477 - val_loss: 11.2265 - val_perplexity: 540981376.0000\n",
      "Epoch 19/48\n",
      "4811/4811 [==============================] - 70s 15ms/step - loss: 3.5890 - perplexity: 43.5417 - val_loss: 11.3037 - val_perplexity: 224041232.0000\n",
      "Epoch 20/48\n",
      "4811/4811 [==============================] - 70s 15ms/step - loss: 3.5551 - perplexity: 42.7804 - val_loss: 11.3640 - val_perplexity: 182050864.0000\n",
      "Epoch 21/48\n",
      "4811/4811 [==============================] - 70s 15ms/step - loss: 3.5406 - perplexity: 42.4476 - val_loss: 11.4864 - val_perplexity: 132082160.0000\n",
      "Epoch 22/48\n",
      "4811/4811 [==============================] - 70s 15ms/step - loss: 3.5172 - perplexity: 40.9986 - val_loss: 11.6644 - val_perplexity: 185828128.0000\n",
      "Epoch 23/48\n",
      "4811/4811 [==============================] - 71s 15ms/step - loss: 3.4803 - perplexity: 39.6736 - val_loss: 11.9594 - val_perplexity: 366613248.0000\n",
      "Epoch 24/48\n",
      "4811/4811 [==============================] - 71s 15ms/step - loss: 3.4838 - perplexity: 40.0755 - val_loss: 12.0995 - val_perplexity: 1135855232.0000\n",
      "Epoch 25/48\n",
      "4811/4811 [==============================] - 71s 15ms/step - loss: 3.4631 - perplexity: 39.2091 - val_loss: 12.1952 - val_perplexity: 3904418816.0000\n",
      "Epoch 26/48\n",
      "4811/4811 [==============================] - 71s 15ms/step - loss: 3.4409 - perplexity: 38.2815 - val_loss: 12.2109 - val_perplexity: 891443008.0000\n",
      "Epoch 27/48\n",
      "4811/4811 [==============================] - 71s 15ms/step - loss: 3.4546 - perplexity: 39.1309 - val_loss: 12.6359 - val_perplexity: 1881568128.0000\n",
      "Epoch 28/48\n",
      "4811/4811 [==============================] - 71s 15ms/step - loss: 3.4241 - perplexity: 37.7156 - val_loss: 12.6802 - val_perplexity: 8809340928.0000\n",
      "Epoch 29/48\n",
      "4811/4811 [==============================] - 71s 15ms/step - loss: 3.4126 - perplexity: 37.0127 - val_loss: 12.8884 - val_perplexity: 3320918272.0000\n",
      "Epoch 30/48\n",
      "4811/4811 [==============================] - 70s 15ms/step - loss: 3.3983 - perplexity: 36.9141 - val_loss: 12.8464 - val_perplexity: 6989594112.0000\n",
      "Epoch 31/48\n",
      "4811/4811 [==============================] - 70s 15ms/step - loss: 3.4067 - perplexity: 36.8216 - val_loss: 13.1297 - val_perplexity: 19363973120.0000\n",
      "Epoch 32/48\n",
      "4811/4811 [==============================] - 70s 15ms/step - loss: 3.4029 - perplexity: 36.8919 - val_loss: 13.0723 - val_perplexity: 12576422912.0000\n",
      "Epoch 33/48\n",
      "4811/4811 [==============================] - 71s 15ms/step - loss: 3.4061 - perplexity: 37.2496 - val_loss: 13.1981 - val_perplexity: 120494129152.0000\n",
      "Epoch 34/48\n",
      "4811/4811 [==============================] - 70s 15ms/step - loss: 3.3918 - perplexity: 36.5172 - val_loss: 13.3720 - val_perplexity: 47248248832.0000\n",
      "Epoch 35/48\n",
      "4811/4811 [==============================] - 70s 15ms/step - loss: 3.3816 - perplexity: 36.4911 - val_loss: 13.5351 - val_perplexity: 25750763520.0000\n",
      "Epoch 36/48\n",
      "4811/4811 [==============================] - 71s 15ms/step - loss: 3.3704 - perplexity: 35.9380 - val_loss: 13.5956 - val_perplexity: 84395016192.0000\n",
      "Epoch 37/48\n",
      "4811/4811 [==============================] - 71s 15ms/step - loss: 3.3881 - perplexity: 36.8280 - val_loss: 13.7271 - val_perplexity: 387398074368.0000\n",
      "Epoch 38/48\n",
      "4811/4811 [==============================] - 70s 15ms/step - loss: 3.3717 - perplexity: 36.1095 - val_loss: 14.0369 - val_perplexity: 1116394487808.0000\n",
      "Epoch 39/48\n",
      "4811/4811 [==============================] - 71s 15ms/step - loss: 3.3699 - perplexity: 36.0898 - val_loss: 14.0469 - val_perplexity: 571584675840.0000\n",
      "Epoch 40/48\n",
      "4811/4811 [==============================] - 70s 15ms/step - loss: 3.3726 - perplexity: 36.1783 - val_loss: 14.3175 - val_perplexity: 39662894710784.0000\n",
      "Epoch 41/48\n",
      "4811/4811 [==============================] - 72s 15ms/step - loss: 3.3738 - perplexity: 35.8914 - val_loss: 14.2828 - val_perplexity: 160666807697408.0000\n",
      "Epoch 42/48\n",
      "4811/4811 [==============================] - 71s 15ms/step - loss: 3.3873 - perplexity: 36.6786 - val_loss: 14.4582 - val_perplexity: 1121059995648.0000\n",
      "Epoch 43/48\n",
      "4811/4811 [==============================] - 71s 15ms/step - loss: 3.3637 - perplexity: 35.7464 - val_loss: 14.2772 - val_perplexity: 2394830667776.0000\n",
      "Epoch 44/48\n",
      "4811/4811 [==============================] - 70s 15ms/step - loss: 3.3585 - perplexity: 35.5662 - val_loss: 14.2997 - val_perplexity: 16564266991616.0000\n",
      "Epoch 45/48\n",
      "4811/4811 [==============================] - 71s 15ms/step - loss: 3.3661 - perplexity: 35.9447 - val_loss: 14.4146 - val_perplexity: 3959721033728.0000\n",
      "Epoch 46/48\n",
      "4811/4811 [==============================] - 71s 15ms/step - loss: 3.3540 - perplexity: 35.2329 - val_loss: 14.8260 - val_perplexity: 9067726635008.0000\n",
      "Epoch 47/48\n",
      "4811/4811 [==============================] - 70s 15ms/step - loss: 3.3516 - perplexity: 35.8811 - val_loss: 14.6692 - val_perplexity: 27659595677696.0000\n",
      "Epoch 48/48\n",
      "4811/4811 [==============================] - 70s 15ms/step - loss: 3.3566 - perplexity: 35.7763 - val_loss: 14.8166 - val_perplexity: 11782338904064.0000\n"
     ]
    }
   ],
   "source": [
    "history = model.fit(xs, ys, validation_split=0.05, batch_size=16, epochs=48, verbose=1, shuffle=True)"
   ]
  },
  {
   "cell_type": "code",
   "execution_count": null,
   "metadata": {
    "colab": {
     "base_uri": "https://localhost:8080/",
     "height": 1000
    },
    "id": "e98n07SjDybd",
    "outputId": "04dc318f-6dc6-4e09-ecb5-555ceaf72062"
   },
   "outputs": [
    {
     "name": "stdout",
     "output_type": "stream",
     "text": [
      "dict_keys(['loss', 'perplexity', 'val_loss', 'val_perplexity'])\n"
     ]
    },
    {
     "data": {
      "image/png": "[encoded data removed]",
      "text/plain": [
       "<Figure size 1152x648 with 1 Axes>"
      ]
     },
     "metadata": {
      "needs_background": "light"
     },
     "output_type": "display_data"
    },
    {
     "data": {
      "image/png": "[encoded data removed]",
      "text/plain": [
       "<Figure size 1152x648 with 1 Axes>"
      ]
     },
     "metadata": {
      "needs_background": "light"
     },
     "output_type": "display_data"
    }
   ],
   "source": [
    "# list all data in history\n",
    "print(history.history.keys())\n",
    "# summarize history for accuracy\n",
    "plt.figure(figsize=(16,9))\n",
    "plt.plot(history.history['perplexity'])\n",
    "plt.plot(history.history['val_perplexity'])\n",
    "plt.title('model perplexity')\n",
    "plt.ylabel('perplexity')\n",
    "plt.xlabel('epoch')\n",
    "plt.legend(['train', 'test'], loc='upper left')\n",
    "plt.show()\n",
    "# summarize history for loss\n",
    "plt.figure(figsize=(16,9))\n",
    "plt.plot(history.history['loss'])\n",
    "plt.plot(history.history['val_loss'])\n",
    "plt.title('model loss')\n",
    "plt.ylabel('loss')\n",
    "plt.xlabel('epoch')\n",
    "plt.legend(['train', 'test'], loc='upper left')\n",
    "plt.show()"
   ]
  },
  {
   "cell_type": "code",
   "execution_count": null,
   "metadata": {
    "id": "sAZFJ34qa_lZ"
   },
   "outputs": [],
   "source": [
    "# model = load_model('keras_next_word_model.h5')\n",
    "# history = pickle.load(open(\"history.p\", \"rb\"))"
   ]
  },
  {
   "cell_type": "code",
   "execution_count": null,
   "metadata": {
    "colab": {
     "base_uri": "https://localhost:8080/"
    },
    "id": "uBMlgvpzb_nx",
    "outputId": "53cbc3a6-69de-4062-9340-ab808a04b08a"
   },
   "outputs": [
    {
     "name": "stdout",
     "output_type": "stream",
     "text": [
      "<keras.engine.sequential.Sequential object at 0x7f30fa8ea890>\n"
     ]
    }
   ],
   "source": [
    "print(model)"
   ]
  },
  {
   "cell_type": "code",
   "execution_count": null,
   "metadata": {
    "id": "Gp_WMuiscVKO"
   },
   "outputs": [],
   "source": [
    "def generate_text(seed_text, next_words, max_sequence_len, model):\n",
    "    for j in range(next_words):\n",
    "        token_list = tokenizer.texts_to_sequences([seed_text])[0]\n",
    "        token_list = pad_sequences([token_list], maxlen=max_sequence_len-1, padding='pre')\n",
    "        predicted = np.argmax(model.predict(token_list, verbose=0),axis=1)\n",
    "  \n",
    "        output_word = \"\"\n",
    "        for word, index in tokenizer.word_index.items():\n",
    "            if index == predicted:\n",
    "                output_word = word\n",
    "                break\n",
    "        seed_text += \" \" + output_word\n",
    "    return seed_text"
   ]
  },
  {
   "cell_type": "code",
   "execution_count": null,
   "metadata": {
    "colab": {
     "base_uri": "https://localhost:8080/",
     "height": 35
    },
    "id": "U8xrUY_vcFcM",
    "outputId": "262311f8-1f8b-4ce5-e49b-0465e423da71"
   },
   "outputs": [
    {
     "data": {
      "application/vnd.google.colaboratory.intrinsic+json": {
       "type": "string"
      },
      "text/plain": [
       "'Indonesia adalah negara yang kita lewati dan dibunuh'"
      ]
     },
     "execution_count": 22,
     "metadata": {},
     "output_type": "execute_result"
    }
   ],
   "source": [
    "seed_text = \"Indonesia adalah negara\"\n",
    "next_words = 5\n",
    "\n",
    "generate_text(seed_text, next_words, max_sequence_len, model)"
   ]
  },
  {
   "cell_type": "code",
   "execution_count": null,
   "metadata": {
    "colab": {
     "base_uri": "https://localhost:8080/",
     "height": 35
    },
    "id": "6_ZJS5YAd_6x",
    "outputId": "1baacc2a-2b48-4dbb-b802-3822bb908944"
   },
   "outputs": [
    {
     "data": {
      "application/vnd.google.colaboratory.intrinsic+json": {
       "type": "string"
      },
      "text/plain": [
       "'Jeruk berwarna biru melintangi ketegangannya'"
      ]
     },
     "execution_count": 23,
     "metadata": {},
     "output_type": "execute_result"
    }
   ],
   "source": [
    "seed_text = \"Jeruk berwarna\"\n",
    "next_words = 3\n",
    "\n",
    "generate_text(seed_text, next_words, max_sequence_len, model)"
   ]
  },
  {
   "cell_type": "code",
   "execution_count": null,
   "metadata": {
    "colab": {
     "base_uri": "https://localhost:8080/",
     "height": 35
    },
    "id": "Y4YY0HwZeEq5",
    "outputId": "0c46e454-08cd-4421-8f6e-89b4ba417e3a"
   },
   "outputs": [
    {
     "data": {
      "application/vnd.google.colaboratory.intrinsic+json": {
       "type": "string"
      },
      "text/plain": [
       "'Ikan hidup di luar dan ada'"
      ]
     },
     "execution_count": 24,
     "metadata": {},
     "output_type": "execute_result"
    }
   ],
   "source": [
    "seed_text = \"Ikan hidup di\"\n",
    "next_words = 3\n",
    "\n",
    "generate_text(seed_text, next_words, max_sequence_len, model)"
   ]
  },
  {
   "cell_type": "code",
   "execution_count": null,
   "metadata": {
    "colab": {
     "base_uri": "https://localhost:8080/",
     "height": 35
    },
    "id": "8VLZK9U8eGBR",
    "outputId": "b9a1989a-432f-483b-f8a1-8309db628ab0"
   },
   "outputs": [
    {
     "data": {
      "application/vnd.google.colaboratory.intrinsic+json": {
       "type": "string"
      },
      "text/plain": [
       "'Matahari berwarna yang tak berdosa'"
      ]
     },
     "execution_count": 25,
     "metadata": {},
     "output_type": "execute_result"
    }
   ],
   "source": [
    "seed_text = \"Matahari berwarna\"\n",
    "next_words = 3\n",
    "\n",
    "generate_text(seed_text, next_words, max_sequence_len, model)"
   ]
  },
  {
   "cell_type": "code",
   "execution_count": null,
   "metadata": {
    "colab": {
     "base_uri": "https://localhost:8080/",
     "height": 35
    },
    "id": "I34mZFmbeMGz",
    "outputId": "c3386928-6d9c-4470-d49f-24250d2df0ff"
   },
   "outputs": [
    {
     "data": {
      "application/vnd.google.colaboratory.intrinsic+json": {
       "type": "string"
      },
      "text/plain": [
       "'Bunga berwarna biru itu akan'"
      ]
     },
     "execution_count": 26,
     "metadata": {},
     "output_type": "execute_result"
    }
   ],
   "source": [
    "seed_text = \"Bunga berwarna\"\n",
    "next_words = 3\n",
    "\n",
    "generate_text(seed_text, next_words, max_sequence_len, model)"
   ]
  },
  {
   "cell_type": "code",
   "execution_count": null,
   "metadata": {
    "colab": {
     "base_uri": "https://localhost:8080/",
     "height": 35
    },
    "id": "O4TETwnjeUGU",
    "outputId": "b4ddd610-c94a-4c5e-a054-489880f4c1b6"
   },
   "outputs": [
    {
     "data": {
      "application/vnd.google.colaboratory.intrinsic+json": {
       "type": "string"
      },
      "text/plain": [
       "'Kereta berbunyi lisbon yang terbuat'"
      ]
     },
     "execution_count": 27,
     "metadata": {},
     "output_type": "execute_result"
    }
   ],
   "source": [
    "seed_text = \"Kereta berbunyi\"\n",
    "next_words = 3\n",
    "\n",
    "generate_text(seed_text, next_words, max_sequence_len, model)"
   ]
  },
  {
   "cell_type": "code",
   "execution_count": null,
   "metadata": {
    "colab": {
     "base_uri": "https://localhost:8080/",
     "height": 35
    },
    "id": "6fJ7T11MePaC",
    "outputId": "bb36d054-fe7b-4122-b9ea-42815257f429"
   },
   "outputs": [
    {
     "data": {
      "application/vnd.google.colaboratory.intrinsic+json": {
       "type": "string"
      },
      "text/plain": [
       "'Hari senin memakai seragam berwarna ketidak bersalahanmu dengan'"
      ]
     },
     "execution_count": 28,
     "metadata": {},
     "output_type": "execute_result"
    }
   ],
   "source": [
    "seed_text = \"Hari senin memakai seragam berwarna\"\n",
    "next_words = 3\n",
    "\n",
    "generate_text(seed_text, next_words, max_sequence_len, model)"
   ]
  },
  {
   "cell_type": "code",
   "execution_count": null,
   "metadata": {
    "colab": {
     "base_uri": "https://localhost:8080/",
     "height": 35
    },
    "id": "MNQ_lw3TeV3U",
    "outputId": "79e20bfa-7b65-4f74-cc7c-4435e63d6790"
   },
   "outputs": [
    {
     "data": {
      "application/vnd.google.colaboratory.intrinsic+json": {
       "type": "string"
      },
      "text/plain": [
       "'Kupu-kupu berwarna biru itu adalah'"
      ]
     },
     "execution_count": 29,
     "metadata": {},
     "output_type": "execute_result"
    }
   ],
   "source": [
    "seed_text = \"Kupu-kupu berwarna\"\n",
    "next_words = 3\n",
    "\n",
    "generate_text(seed_text, next_words, max_sequence_len, model)"
   ]
  },
  {
   "cell_type": "code",
   "execution_count": null,
   "metadata": {
    "colab": {
     "base_uri": "https://localhost:8080/",
     "height": 35
    },
    "id": "DifgHe2CmJiE",
    "outputId": "7c23557d-591a-485c-9b2f-37f8043042b3"
   },
   "outputs": [
    {
     "data": {
      "application/vnd.google.colaboratory.intrinsic+json": {
       "type": "string"
      },
      "text/plain": [
       "'Dia bernama kami dan terakhirmu'"
      ]
     },
     "execution_count": 32,
     "metadata": {},
     "output_type": "execute_result"
    }
   ],
   "source": [
    "seed_text = \"Dia bernama\"\n",
    "next_words = 3\n",
    "\n",
    "generate_text(seed_text, next_words, max_sequence_len, model)"
   ]
  },
  {
   "cell_type": "code",
   "execution_count": null,
   "metadata": {
    "colab": {
     "base_uri": "https://localhost:8080/",
     "height": 35
    },
    "id": "-v_-nTRenYGG",
    "outputId": "1bf160fb-5c44-496b-a421-362230246261"
   },
   "outputs": [
    {
     "data": {
      "application/vnd.google.colaboratory.intrinsic+json": {
       "type": "string"
      },
      "text/plain": [
       "'Ia berbicara dengan hal ini'"
      ]
     },
     "execution_count": 34,
     "metadata": {},
     "output_type": "execute_result"
    }
   ],
   "source": [
    "seed_text = \"Ia berbicara\"\n",
    "next_words = 3\n",
    "\n",
    "generate_text(seed_text, next_words, max_sequence_len, model)"
   ]
  },
  {
   "cell_type": "code",
   "execution_count": null,
   "metadata": {
    "colab": {
     "base_uri": "https://localhost:8080/",
     "height": 35
    },
    "id": "DyiWcO0hnrqn",
    "outputId": "e4a9c61f-3c1a-4035-fea2-5d9d2aa3c1c3"
   },
   "outputs": [
    {
     "data": {
      "application/vnd.google.colaboratory.intrinsic+json": {
       "type": "string"
      },
      "text/plain": [
       "'Ia sedang mengatur pencahayaan untuk'"
      ]
     },
     "execution_count": 35,
     "metadata": {},
     "output_type": "execute_result"
    }
   ],
   "source": [
    "seed_text = \"Ia sedang\"\n",
    "next_words = 3\n",
    "\n",
    "generate_text(seed_text, next_words, max_sequence_len, model)"
   ]
  },
  {
   "cell_type": "code",
   "execution_count": null,
   "metadata": {
    "colab": {
     "base_uri": "https://localhost:8080/",
     "height": 35
    },
    "id": "YoD_Y8Y7nZq3",
    "outputId": "a3caf16b-7e79-4a5d-cd2b-d82e72cca593"
   },
   "outputs": [
    {
     "data": {
      "application/vnd.google.colaboratory.intrinsic+json": {
       "type": "string"
      },
      "text/plain": [
       "'Ia pergi ke norfolk anda'"
      ]
     },
     "execution_count": 36,
     "metadata": {},
     "output_type": "execute_result"
    }
   ],
   "source": [
    "seed_text = \"Ia pergi\"\n",
    "next_words = 3\n",
    "\n",
    "generate_text(seed_text, next_words, max_sequence_len, model)"
   ]
  },
  {
   "cell_type": "code",
   "execution_count": null,
   "metadata": {
    "colab": {
     "base_uri": "https://localhost:8080/",
     "height": 35
    },
    "id": "kNG81xUan86_",
    "outputId": "15495b98-5e4e-4c42-a3b8-bb9bcc9376ba"
   },
   "outputs": [
    {
     "data": {
      "application/vnd.google.colaboratory.intrinsic+json": {
       "type": "string"
      },
      "text/plain": [
       "'Ia menyukai kami menggali dan aku akan'"
      ]
     },
     "execution_count": 38,
     "metadata": {},
     "output_type": "execute_result"
    }
   ],
   "source": [
    "seed_text = \"Ia menyukai\"\n",
    "next_words = 5\n",
    "\n",
    "generate_text(seed_text, next_words, max_sequence_len, model)"
   ]
  },
  {
   "cell_type": "code",
   "execution_count": null,
   "metadata": {
    "colab": {
     "base_uri": "https://localhost:8080/",
     "height": 35
    },
    "id": "I2HpfOlsnBOm",
    "outputId": "a9f0827f-81b7-4167-b490-3d4702904b02"
   },
   "outputs": [
    {
     "data": {
      "application/vnd.google.colaboratory.intrinsic+json": {
       "type": "string"
      },
      "text/plain": [
       "'Wanita itu sedang menembus segalanya bagi'"
      ]
     },
     "execution_count": 39,
     "metadata": {},
     "output_type": "execute_result"
    }
   ],
   "source": [
    "seed_text = \"Wanita itu sedang\"\n",
    "next_words = 3\n",
    "\n",
    "generate_text(seed_text, next_words, max_sequence_len, model)"
   ]
  },
  {
   "cell_type": "code",
   "execution_count": null,
   "metadata": {
    "colab": {
     "base_uri": "https://localhost:8080/",
     "height": 35
    },
    "id": "KHIHeQsTnGP2",
    "outputId": "ebf911a1-586e-4405-e277-46ba56fb46a9"
   },
   "outputs": [
    {
     "data": {
      "application/vnd.google.colaboratory.intrinsic+json": {
       "type": "string"
      },
      "text/plain": [
       "'Anak itu bermain korban ini yang'"
      ]
     },
     "execution_count": 40,
     "metadata": {},
     "output_type": "execute_result"
    }
   ],
   "source": [
    "seed_text = \"Anak itu bermain\"\n",
    "next_words = 3\n",
    "\n",
    "generate_text(seed_text, next_words, max_sequence_len, model)"
   ]
  },
  {
   "cell_type": "code",
   "execution_count": null,
   "metadata": {
    "colab": {
     "base_uri": "https://localhost:8080/",
     "height": 35
    },
    "id": "8g7k7naxnR-e",
    "outputId": "60ad4e80-da23-4fc0-a0f7-37c38bb37024"
   },
   "outputs": [
    {
     "data": {
      "application/vnd.google.colaboratory.intrinsic+json": {
       "type": "string"
      },
      "text/plain": [
       "'Sore itu untuk toretto korban'"
      ]
     },
     "execution_count": 41,
     "metadata": {},
     "output_type": "execute_result"
    }
   ],
   "source": [
    "seed_text = \"Sore itu\"\n",
    "next_words = 3\n",
    "\n",
    "generate_text(seed_text, next_words, max_sequence_len, model)"
   ]
  },
  {
   "cell_type": "code",
   "execution_count": null,
   "metadata": {
    "colab": {
     "base_uri": "https://localhost:8080/",
     "height": 35
    },
    "id": "MsVZ9KoAoMTQ",
    "outputId": "51a01647-efb1-46aa-8cdb-b658e7b8fcdd"
   },
   "outputs": [
    {
     "data": {
      "application/vnd.google.colaboratory.intrinsic+json": {
       "type": "string"
      },
      "text/plain": [
       "'Ibu tidak ada yang beristirahat di'"
      ]
     },
     "execution_count": 44,
     "metadata": {},
     "output_type": "execute_result"
    }
   ],
   "source": [
    "seed_text = \"Ibu\"\n",
    "next_words = 5\n",
    "\n",
    "generate_text(seed_text, next_words, max_sequence_len, model)"
   ]
  },
  {
   "cell_type": "code",
   "execution_count": null,
   "metadata": {
    "colab": {
     "base_uri": "https://localhost:8080/",
     "height": 35
    },
    "id": "MrLrA3grocJX",
    "outputId": "721a2097-c887-4103-8a1b-9fd27791837a"
   },
   "outputs": [
    {
     "data": {
      "application/vnd.google.colaboratory.intrinsic+json": {
       "type": "string"
      },
      "text/plain": [
       "'Indonesia ini kau yakin'"
      ]
     },
     "execution_count": 43,
     "metadata": {},
     "output_type": "execute_result"
    }
   ],
   "source": [
    "seed_text = \"Indonesia\"\n",
    "next_words = 3\n",
    "\n",
    "generate_text(seed_text, next_words, max_sequence_len, model)"
   ]
  },
  {
   "cell_type": "code",
   "execution_count": null,
   "metadata": {
    "colab": {
     "base_uri": "https://localhost:8080/",
     "height": 35
    },
    "id": "CkWLFTHZDi2I",
    "outputId": "ea4637fe-a8fa-487a-f90c-8b842bde9b87"
   },
   "outputs": [
    {
     "data": {
      "application/vnd.google.colaboratory.intrinsic+json": {
       "type": "string"
      },
      "text/plain": [
       "'Orang jahat membutuhkan kursi selama enam tahun'"
      ]
     },
     "execution_count": 47,
     "metadata": {},
     "output_type": "execute_result"
    }
   ],
   "source": [
    "seed_text = \"Orang jahat\"\n",
    "next_words = 5\n",
    "\n",
    "generate_text(seed_text, next_words, max_sequence_len, model)"
   ]
  },
  {
   "cell_type": "code",
   "execution_count": null,
   "metadata": {
    "colab": {
     "base_uri": "https://localhost:8080/",
     "height": 35
    },
    "id": "yKQ3Q3nTDoi-",
    "outputId": "6d3b7368-32c4-4cc1-fd11-bf2c9081457d"
   },
   "outputs": [
    {
     "data": {
      "application/vnd.google.colaboratory.intrinsic+json": {
       "type": "string"
      },
      "text/plain": [
       "'Orang baik yang kau inginkan dariku itu'"
      ]
     },
     "execution_count": 48,
     "metadata": {},
     "output_type": "execute_result"
    }
   ],
   "source": [
    "seed_text = \"Orang baik\"\n",
    "next_words = 5\n",
    "\n",
    "generate_text(seed_text, next_words, max_sequence_len, model)"
   ]
  },
  {
   "cell_type": "code",
   "execution_count": null,
   "metadata": {
    "colab": {
     "base_uri": "https://localhost:8080/",
     "height": 35
    },
    "id": "OArlwqNmFhLl",
    "outputId": "3b9be15b-f20f-49f5-8863-7255f00dcc80"
   },
   "outputs": [
    {
     "data": {
      "application/vnd.google.colaboratory.intrinsic+json": {
       "type": "string"
      },
      "text/plain": [
       "'Ia tidak akan pernah meninggalkan kapal ini'"
      ]
     },
     "execution_count": 57,
     "metadata": {},
     "output_type": "execute_result"
    }
   ],
   "source": [
    "seed_text = \"Ia tidak\"\n",
    "next_words = 5\n",
    "\n",
    "generate_text(seed_text, next_words, max_sequence_len, model)"
   ]
  },
  {
   "cell_type": "code",
   "execution_count": null,
   "metadata": {
    "id": "JuXEN02WK2Wk"
   },
   "outputs": [],
   "source": []
  }
 ],
 "metadata": {
  "accelerator": "GPU",
  "colab": {
   "provenance": []
  },
  "kernelspec": {
   "display_name": "Python 3 (ipykernel)",
   "language": "python",
   "name": "python3"
  },
  "language_info": {
   "codemirror_mode": {
    "name": "ipython",
    "version": 3
   },
   "file_extension": ".py",
   "mimetype": "text/x-python",
   "name": "python",
   "nbconvert_exporter": "python",
   "pygments_lexer": "ipython3",
   "version": "3.10.1"
  }
 },
 "nbformat": 4,
 "nbformat_minor": 1
}
